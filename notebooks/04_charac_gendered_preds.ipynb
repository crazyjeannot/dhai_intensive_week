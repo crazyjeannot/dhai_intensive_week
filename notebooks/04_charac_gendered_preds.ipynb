{
 "cells": [
  {
   "cell_type": "code",
   "execution_count": 1,
   "id": "a84e432c",
   "metadata": {},
   "outputs": [],
   "source": [
    "import pandas as pd\n",
    "import numpy as np\n",
    "from sklearn import set_config\n",
    "from sklearn import metrics\n",
    "from sklearn.metrics import r2_score, mean_absolute_error, mean_squared_error\n",
    "from sklearn.pipeline import make_pipeline\n",
    "from sklearn.preprocessing import StandardScaler\n",
    "from sklearn.svm import SVC\n",
    "from sklearn.linear_model import LogisticRegression\n",
    "from sklearn.model_selection import train_test_split\n",
    "from sklearn.preprocessing import Normalizer\n",
    "from sklearn.model_selection import cross_validate, cross_val_score\n",
    "from sklearn.metrics import make_scorer, accuracy_score, precision_score, recall_score, f1_score\n",
    "from sklearn.model_selection import ShuffleSplit\n",
    "from sklearn.metrics import ConfusionMatrixDisplay\n",
    "from sklearn.utils import shuffle\n",
    "import seaborn as sns\n",
    "import matplotlib.pyplot as plt\n",
    "import random\n",
    "from collections import Counter"
   ]
  },
  {
   "cell_type": "code",
   "execution_count": 2,
   "id": "6268e4b3",
   "metadata": {},
   "outputs": [],
   "source": [
    "def plot_coefficients(coefs, feature_names, top_features):\n",
    "    top_positive_coefficients = np.argsort(coefs)[-top_features:]\n",
    "    top_negative_coefficients = np.argsort(coefs)[:top_features]\n",
    "    top_coefficients = np.hstack([top_negative_coefficients, top_positive_coefficients])\n",
    "    # create plot\n",
    "    plt.figure(figsize=(15, 5))\n",
    "    colors = ['red' if c < 0 else 'blue' for c in coefs[top_coefficients]]\n",
    "    plt.bar(np.arange(2 * top_features), coefs[top_coefficients], color=colors)\n",
    "    feature_names = np.array(feature_names)\n",
    "    plt.xticks(np.arange(0, 2 * top_features), feature_names[top_coefficients], rotation=60, ha='right')\n",
    "    plt.title(\"Meilleurs coefficients pour la classification binaire\")\n",
    "    plt.savefig('img/coefs_linear_svm.png')\n",
    "    plt.show()"
   ]
  },
  {
   "cell_type": "code",
   "execution_count": 3,
   "id": "83d598f9",
   "metadata": {},
   "outputs": [],
   "source": [
    "def canonizer(data, test_size=0.2, random_state=42, sampling=None, cross_validation=False, cv=5, kernel='rbf', nb_coef=20):\n",
    "    \n",
    "    df_results = pd.DataFrame()\n",
    "    \n",
    "    if cross_validation == True:\n",
    "        \n",
    "        pipe = make_pipeline(StandardScaler(), SVC(kernel=kernel, probability=True))\n",
    "        \n",
    "        #cv_results = cross_validate(pipe, data.drop(['canon'], axis=1), data['canon'], cv=cv, scoring='precision')\n",
    "        cv_results = cross_val_score(pipe, data.drop(['gender'], axis=1), data['gender'], cv=cv, scoring=make_scorer(classification_report_with_accuracy_score))\n",
    "        return pipe, cv_results\n",
    "    \n",
    "    else:\n",
    "        if kernel == 'rbf':\n",
    "            pipe = make_pipeline(StandardScaler(), Normalizer(), SVC(kernel=kernel, probability=True))\n",
    "        else:\n",
    "            pipe = make_pipeline(StandardScaler(), SVC(kernel=kernel, probability=True))\n",
    "    \n",
    "\n",
    "        X_train, X_test, y_train, y_test = train_test_split(data.drop(['gender'], axis=1), data['gender'], test_size=test_size, random_state=random_state)\n",
    "        print('Original dataset shape {}'.format(Counter(y_train)))\n",
    "        \n",
    "    pipe.fit(X_train, y_train)\n",
    "        \n",
    "    report = metrics.classification_report(y_test, pipe.predict(X_test), output_dict=True)\n",
    "    df_scores = pd.DataFrame(report).transpose()\n",
    "    print(df_scores)\n",
    "\n",
    "    _ = ConfusionMatrixDisplay.from_estimator(pipe, X_test, y_test)\n",
    "                   \n",
    "    df_results['metadata'] = y_test\n",
    "    df_results['proba male'] = pipe.predict_proba(X_test)[:,0]\n",
    "    df_results['proba female'] = pipe.predict_proba(X_test)[:,1]\n",
    "    df_results['prediction']= pipe.predict(X_test)\n",
    "        \n",
    "    df_results['accord'] = [True if row['metadata'] == row['prediction'] else False for index, row in df_results.iterrows()]\n",
    "    \n",
    "    if kernel == 'linear':\n",
    "        coefs = pipe.named_steps['svc'].coef_\n",
    "        plot_coefficients(*coefs, data.columns, nb_coef)\n",
    "        coef_names = data.columns\n",
    "        return pipe, df_results, df_scores, coefs, coef_names\n",
    "\n",
    "    return pipe, df_results, df_scores"
   ]
  },
  {
   "cell_type": "code",
   "execution_count": 4,
   "id": "be95ef69",
   "metadata": {},
   "outputs": [],
   "source": [
    "from sklearn.metrics import classification_report, accuracy_score, make_scorer\n",
    "\n",
    "def classification_report_with_accuracy_score(y_true, y_pred):\n",
    "    print(classification_report(y_true, y_pred))\n",
    "    return accuracy_score(y_true, y_pred)"
   ]
  },
  {
   "cell_type": "code",
   "execution_count": 10,
   "id": "150d20e4",
   "metadata": {},
   "outputs": [],
   "source": [
    "df_main = pd.read_csv(r'/home/crazyjeannot/Downloads/features_gendered.csv')\n",
    "df_main.drop(['Unnamed: 0'], axis = 1)\n",
    "df_main.set_index(\"id\", inplace = True)\n",
    "df_main = df_main.replace(np.nan, 0)"
   ]
  },
  {
   "cell_type": "code",
   "execution_count": 13,
   "id": "1c372af1",
   "metadata": {},
   "outputs": [
    {
     "name": "stderr",
     "output_type": "stream",
     "text": [
      "/tmp/ipykernel_51962/2851475048.py:2: SettingWithCopyWarning: \n",
      "A value is trying to be set on a copy of a slice from a DataFrame.\n",
      "Try using .loc[row_indexer,col_indexer] = value instead\n",
      "\n",
      "See the caveats in the documentation: https://pandas.pydata.org/pandas-docs/stable/user_guide/indexing.html#returning-a-view-versus-a-copy\n",
      "  df_main['Gender'] = ['Female' if (elem == 'female') | (elem == 'Female') else 'Male' for elem in df_main['Gender']]\n"
     ]
    }
   ],
   "source": [
    "df_main = df_main[(df_main.Gender == 'female') | (df_main.Gender == 'Female') | (df_main.Gender == 'male') | (df_main.Gender == 'Male')]\n",
    "df_main['Gender'] = ['Female' if (elem == 'female') | (elem == 'Female') else 'Male' for elem in df_main['Gender']]"
   ]
  },
  {
   "cell_type": "code",
   "execution_count": null,
   "id": "c4fd7369",
   "metadata": {},
   "outputs": [],
   "source": []
  },
  {
   "cell_type": "code",
   "execution_count": 14,
   "id": "b189f7ad",
   "metadata": {},
   "outputs": [
    {
     "data": {
      "text/plain": [
       "Male      0.561667\n",
       "Female    0.438333\n",
       "Name: Gender, dtype: float64"
      ]
     },
     "execution_count": 14,
     "metadata": {},
     "output_type": "execute_result"
    }
   ],
   "source": [
    "df_main.Gender.value_counts(normalize=True)"
   ]
  },
  {
   "cell_type": "code",
   "execution_count": null,
   "id": "20af64da",
   "metadata": {},
   "outputs": [],
   "source": []
  },
  {
   "cell_type": "code",
   "execution_count": null,
   "id": "d94c5f85",
   "metadata": {},
   "outputs": [],
   "source": []
  },
  {
   "cell_type": "code",
   "execution_count": null,
   "id": "4f832875",
   "metadata": {},
   "outputs": [],
   "source": []
  }
 ],
 "metadata": {
  "kernelspec": {
   "display_name": "Python 3 (ipykernel)",
   "language": "python",
   "name": "python3"
  },
  "language_info": {
   "codemirror_mode": {
    "name": "ipython",
    "version": 3
   },
   "file_extension": ".py",
   "mimetype": "text/x-python",
   "name": "python",
   "nbconvert_exporter": "python",
   "pygments_lexer": "ipython3",
   "version": "3.9.12"
  }
 },
 "nbformat": 4,
 "nbformat_minor": 5
}
