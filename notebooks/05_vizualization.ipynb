{
 "cells": [
  {
   "cell_type": "code",
   "execution_count": 1,
   "id": "e4944476",
   "metadata": {},
   "outputs": [],
   "source": [
    "import pandas as pd\n",
    "import numpy as np\n",
    "import seaborn as sns\n",
    "import matplotlib.pyplot as plt\n",
    "import random\n",
    "from collections import Counter\n",
    "from tqdm.notebook import tqdm"
   ]
  },
  {
   "cell_type": "code",
   "execution_count": 8,
   "id": "dd30b95e",
   "metadata": {},
   "outputs": [],
   "source": [
    "df_PER_gender = pd.read_csv(r'results/df_PER_gender.csv')"
   ]
  },
  {
   "cell_type": "code",
   "execution_count": null,
   "id": "8953a9fc",
   "metadata": {},
   "outputs": [],
   "source": []
  },
  {
   "cell_type": "code",
   "execution_count": 12,
   "id": "53ee0579",
   "metadata": {},
   "outputs": [],
   "source": [
    "corpus_metadata = pd.read_csv(r'metadata/corpus_gendered.csv')"
   ]
  },
  {
   "cell_type": "code",
   "execution_count": 70,
   "id": "96c6bdbc",
   "metadata": {},
   "outputs": [],
   "source": [
    "row = corpus_metadata.loc[corpus_metadata['titre']=='La-force-des-choses']"
   ]
  },
  {
   "cell_type": "code",
   "execution_count": 74,
   "id": "08bc01e9",
   "metadata": {},
   "outputs": [
    {
     "data": {
      "text/plain": [
       "1963"
      ]
     },
     "execution_count": 74,
     "metadata": {},
     "output_type": "execute_result"
    }
   ],
   "source": []
  },
  {
   "cell_type": "code",
   "execution_count": null,
   "id": "8f139428",
   "metadata": {},
   "outputs": [],
   "source": []
  },
  {
   "cell_type": "code",
   "execution_count": null,
   "id": "23ad4841",
   "metadata": {},
   "outputs": [],
   "source": []
  },
  {
   "cell_type": "code",
   "execution_count": 76,
   "id": "7bcde6cf",
   "metadata": {},
   "outputs": [],
   "source": [
    "def get_df_per_author_gender_date(df_metadata, df_PER_gender):\n",
    "    list_PER = list(df_PER_gender.character)\n",
    "    list_gender_PER = list(df_PER_gender.gender)\n",
    "    list_titre = [elem.split('_')[1] for elem in list_PER]\n",
    "\n",
    "    list_date = []\n",
    "    list_gender_author = []\n",
    "    \n",
    "    for titre in tqdm(list_titre):\n",
    "        if titre in list(df_metadata.titre):\n",
    "            row_same_titre = df_metadata.loc[df_metadata['titre']==titre]\n",
    "            list_date.append(int(row_same_titre['date'].values[0]))\n",
    "            list_gender_author.append(row_same_titre['gender'].values[0])\n",
    "\n",
    "    df_per_corpus = pd.DataFrame(zip(list_PER, list_gender_PER, list_date, list_gender_author), columns=['character', \"gender_PER\", 'date', 'gender_AUTHOR'])\n",
    "    \n",
    "    return df_per_corpus"
   ]
  },
  {
   "cell_type": "code",
   "execution_count": 77,
   "id": "1eeddf37",
   "metadata": {},
   "outputs": [
    {
     "data": {
      "application/vnd.jupyter.widget-view+json": {
       "model_id": "6c8fe4c502e44446ba336f13820d578c",
       "version_major": 2,
       "version_minor": 0
      },
      "text/plain": [
       "  0%|          | 0/27586 [00:00<?, ?it/s]"
      ]
     },
     "metadata": {},
     "output_type": "display_data"
    }
   ],
   "source": [
    "df_per_corpus = get_df_per_author_gender_date(corpus_metadata, df_PER_gender)"
   ]
  },
  {
   "cell_type": "code",
   "execution_count": 79,
   "id": "1d6d504c",
   "metadata": {},
   "outputs": [],
   "source": [
    "df_per_corpus.to_csv(r'results/df_PER_gender_dated.csv', index = True)"
   ]
  },
  {
   "cell_type": "code",
   "execution_count": null,
   "id": "87ed14fc",
   "metadata": {},
   "outputs": [],
   "source": []
  },
  {
   "cell_type": "code",
   "execution_count": 80,
   "id": "553d4a45",
   "metadata": {},
   "outputs": [
    {
     "data": {
      "text/html": [
       "<div>\n",
       "<style scoped>\n",
       "    .dataframe tbody tr th:only-of-type {\n",
       "        vertical-align: middle;\n",
       "    }\n",
       "\n",
       "    .dataframe tbody tr th {\n",
       "        vertical-align: top;\n",
       "    }\n",
       "\n",
       "    .dataframe thead th {\n",
       "        text-align: right;\n",
       "    }\n",
       "</style>\n",
       "<table border=\"1\" class=\"dataframe\">\n",
       "  <thead>\n",
       "    <tr style=\"text-align: right;\">\n",
       "      <th></th>\n",
       "      <th>character</th>\n",
       "      <th>gender_PER</th>\n",
       "      <th>date</th>\n",
       "      <th>gender_AUTHOR</th>\n",
       "    </tr>\n",
       "  </thead>\n",
       "  <tbody>\n",
       "    <tr>\n",
       "      <th>0</th>\n",
       "      <td>Glady-Alberic_Male-et-femelle_&lt;Georges-839&gt;</td>\n",
       "      <td>Female</td>\n",
       "      <td>1876</td>\n",
       "      <td>male</td>\n",
       "    </tr>\n",
       "    <tr>\n",
       "      <th>1</th>\n",
       "      <td>Glady-Alberic_Male-et-femelle_&lt;Georges-912&gt;</td>\n",
       "      <td>Female</td>\n",
       "      <td>1876</td>\n",
       "      <td>male</td>\n",
       "    </tr>\n",
       "    <tr>\n",
       "      <th>2</th>\n",
       "      <td>Glady-Alberic_Male-et-femelle_&lt;une maîtresse-1...</td>\n",
       "      <td>Female</td>\n",
       "      <td>1876</td>\n",
       "      <td>male</td>\n",
       "    </tr>\n",
       "    <tr>\n",
       "      <th>3</th>\n",
       "      <td>Glady-Alberic_Male-et-femelle_&lt;un tout petit b...</td>\n",
       "      <td>Male</td>\n",
       "      <td>1876</td>\n",
       "      <td>male</td>\n",
       "    </tr>\n",
       "    <tr>\n",
       "      <th>4</th>\n",
       "      <td>Glady-Alberic_Male-et-femelle_&lt;Georges-417&gt;</td>\n",
       "      <td>Female</td>\n",
       "      <td>1876</td>\n",
       "      <td>male</td>\n",
       "    </tr>\n",
       "    <tr>\n",
       "      <th>...</th>\n",
       "      <td>...</td>\n",
       "      <td>...</td>\n",
       "      <td>...</td>\n",
       "      <td>...</td>\n",
       "    </tr>\n",
       "    <tr>\n",
       "      <th>27523</th>\n",
       "      <td>Feval-Paul_Les-Compagnons-du-Silence_&lt;Barbe Sp...</td>\n",
       "      <td>Female</td>\n",
       "      <td>1878</td>\n",
       "      <td>male</td>\n",
       "    </tr>\n",
       "    <tr>\n",
       "      <th>27524</th>\n",
       "      <td>Feval-Paul_Les-Compagnons-du-Silence_&lt;Johann-3...</td>\n",
       "      <td>Male</td>\n",
       "      <td>1878</td>\n",
       "      <td>male</td>\n",
       "    </tr>\n",
       "    <tr>\n",
       "      <th>27525</th>\n",
       "      <td>Feval-Paul_Les-Compagnons-du-Silence_&lt;La perso...</td>\n",
       "      <td>Male</td>\n",
       "      <td>1878</td>\n",
       "      <td>male</td>\n",
       "    </tr>\n",
       "    <tr>\n",
       "      <th>27526</th>\n",
       "      <td>Balzac-Honore-de_Jesus-Christ-en-Flandre_&lt;!Une...</td>\n",
       "      <td>Female</td>\n",
       "      <td>1878</td>\n",
       "      <td>male</td>\n",
       "    </tr>\n",
       "    <tr>\n",
       "      <th>27527</th>\n",
       "      <td>Balzac-Honore-de_Jesus-Christ-en-Flandre_&lt;du d...</td>\n",
       "      <td>Male</td>\n",
       "      <td>1878</td>\n",
       "      <td>male</td>\n",
       "    </tr>\n",
       "  </tbody>\n",
       "</table>\n",
       "<p>27528 rows × 4 columns</p>\n",
       "</div>"
      ],
      "text/plain": [
       "                                               character gender_PER  date  \\\n",
       "0            Glady-Alberic_Male-et-femelle_<Georges-839>     Female  1876   \n",
       "1            Glady-Alberic_Male-et-femelle_<Georges-912>     Female  1876   \n",
       "2      Glady-Alberic_Male-et-femelle_<une maîtresse-1...     Female  1876   \n",
       "3      Glady-Alberic_Male-et-femelle_<un tout petit b...       Male  1876   \n",
       "4            Glady-Alberic_Male-et-femelle_<Georges-417>     Female  1876   \n",
       "...                                                  ...        ...   ...   \n",
       "27523  Feval-Paul_Les-Compagnons-du-Silence_<Barbe Sp...     Female  1878   \n",
       "27524  Feval-Paul_Les-Compagnons-du-Silence_<Johann-3...       Male  1878   \n",
       "27525  Feval-Paul_Les-Compagnons-du-Silence_<La perso...       Male  1878   \n",
       "27526  Balzac-Honore-de_Jesus-Christ-en-Flandre_<!Une...     Female  1878   \n",
       "27527  Balzac-Honore-de_Jesus-Christ-en-Flandre_<du d...       Male  1878   \n",
       "\n",
       "      gender_AUTHOR  \n",
       "0              male  \n",
       "1              male  \n",
       "2              male  \n",
       "3              male  \n",
       "4              male  \n",
       "...             ...  \n",
       "27523          male  \n",
       "27524          male  \n",
       "27525          male  \n",
       "27526          male  \n",
       "27527          male  \n",
       "\n",
       "[27528 rows x 4 columns]"
      ]
     },
     "execution_count": 80,
     "metadata": {},
     "output_type": "execute_result"
    }
   ],
   "source": [
    "df_per_corpus"
   ]
  },
  {
   "cell_type": "code",
   "execution_count": 82,
   "id": "e728910f",
   "metadata": {},
   "outputs": [
    {
     "data": {
      "text/plain": [
       "<AxesSubplot:xlabel='gender_PER', ylabel='count'>"
      ]
     },
     "execution_count": 82,
     "metadata": {},
     "output_type": "execute_result"
    },
    {
     "data": {
      "image/png": "[encoded data removed]",
      "text/plain": [
       "<Figure size 432x288 with 1 Axes>"
      ]
     },
     "metadata": {
      "needs_background": "light"
     },
     "output_type": "display_data"
    }
   ],
   "source": [
    "sns.countplot(x ='gender_PER', data = df_per_corpus, hue='gender_AUTHOR', palette = \"bright\")"
   ]
  },
  {
   "cell_type": "markdown",
   "id": "61b9b269",
   "metadata": {},
   "source": [
    "### for each 5 annees, compute %female character"
   ]
  },
  {
   "cell_type": "code",
   "execution_count": null,
   "id": "7ed76407",
   "metadata": {},
   "outputs": [],
   "source": []
  },
  {
   "cell_type": "code",
   "execution_count": null,
   "id": "33f80e6d",
   "metadata": {},
   "outputs": [],
   "source": []
  },
  {
   "cell_type": "code",
   "execution_count": null,
   "id": "6494986e",
   "metadata": {},
   "outputs": [],
   "source": []
  },
  {
   "cell_type": "code",
   "execution_count": 136,
   "id": "57aecd73",
   "metadata": {},
   "outputs": [],
   "source": [
    "def gender_decades(list_dates, list_gender):\n",
    "    list_decades, list_nbmale_decades,  list_nbfemale_decades, list_decades_vues, list_female_pourcentage = [], [], [], [], []\n",
    "    conteur_male, conteur_female, i = 0, 0, 0\n",
    "    for i in range(len(list_dates)):\n",
    "        if list_dates[i] % 5 == 0 and len(list_decades_vues)>=1 and list_dates[i] not in list_decades_vues:#10==1\n",
    "            list_decades.append(list_dates[i]-1)\n",
    "            list_nbmale_decades.append(conteur_male)\n",
    "            list_nbfemale_decades.append(conteur_female)\n",
    "            list_decades_vues.append(list_dates[i])\n",
    "            list_female_pourcentage.append(100*conteur_female/(conteur_female + conteur_male))\n",
    "            conteur_female = 0\n",
    "            conteur_male = 0\n",
    "\n",
    "            \n",
    "        if list_gender[i] == 'Female':\n",
    "            conteur_female+=1\n",
    "        else:\n",
    "            conteur_male+=1\n",
    "            \n",
    "        if len(list_decades_vues) == 0:\n",
    "            list_decades_vues.append(list_dates[i])\n",
    "               \n",
    "        \n",
    "    return list_decades, list_female_pourcentage"
   ]
  },
  {
   "cell_type": "code",
   "execution_count": 127,
   "id": "00192670",
   "metadata": {},
   "outputs": [],
   "source": [
    "def gender_year(list_dates, list_gender):\n",
    "    list_year, list_nbmale_year,  list_nbfemale_year, list_year_vues, list_female_pourcentage = [], [], [], [], []\n",
    "    conteur_male, conteur_female, i = 0, 0, 0\n",
    "    for i in range(len(list_dates)):\n",
    "        if list_dates[i] not in list_year_vues and len(list_year_vues)>=1:\n",
    "            list_year_vues.append(list_dates[i])\n",
    "            list_nbmale_year.append(conteur_male)\n",
    "            list_nbfemale_year.append(conteur_female)\n",
    "            list_female_pourcentage.append(100*conteur_female/(conteur_female + conteur_male))\n",
    "            conteur_female = 0\n",
    "            conteur_male = 0\n",
    "        if list_gender[i] == 'Female':\n",
    "            conteur_female+=1\n",
    "        else:\n",
    "            conteur_male+=1\n",
    "        if len(list_year_vues) == 0:\n",
    "            list_year_vues.append(list_dates[i])\n",
    "            \n",
    "        \n",
    "    return list_year_vues, list_female_pourcentage"
   ]
  },
  {
   "cell_type": "code",
   "execution_count": null,
   "id": "3829d7a1",
   "metadata": {},
   "outputs": [],
   "source": []
  },
  {
   "cell_type": "code",
   "execution_count": 85,
   "id": "a2d306c0",
   "metadata": {},
   "outputs": [
    {
     "data": {
      "text/html": [
       "<div>\n",
       "<style scoped>\n",
       "    .dataframe tbody tr th:only-of-type {\n",
       "        vertical-align: middle;\n",
       "    }\n",
       "\n",
       "    .dataframe tbody tr th {\n",
       "        vertical-align: top;\n",
       "    }\n",
       "\n",
       "    .dataframe thead th {\n",
       "        text-align: right;\n",
       "    }\n",
       "</style>\n",
       "<table border=\"1\" class=\"dataframe\">\n",
       "  <thead>\n",
       "    <tr style=\"text-align: right;\">\n",
       "      <th></th>\n",
       "      <th>character</th>\n",
       "      <th>gender_PER</th>\n",
       "      <th>date</th>\n",
       "      <th>gender_AUTHOR</th>\n",
       "    </tr>\n",
       "  </thead>\n",
       "  <tbody>\n",
       "    <tr>\n",
       "      <th>0</th>\n",
       "      <td>Glady-Alberic_Male-et-femelle_&lt;Georges-839&gt;</td>\n",
       "      <td>Female</td>\n",
       "      <td>1876</td>\n",
       "      <td>male</td>\n",
       "    </tr>\n",
       "    <tr>\n",
       "      <th>1</th>\n",
       "      <td>Glady-Alberic_Male-et-femelle_&lt;Georges-912&gt;</td>\n",
       "      <td>Female</td>\n",
       "      <td>1876</td>\n",
       "      <td>male</td>\n",
       "    </tr>\n",
       "    <tr>\n",
       "      <th>2</th>\n",
       "      <td>Glady-Alberic_Male-et-femelle_&lt;une maîtresse-1...</td>\n",
       "      <td>Female</td>\n",
       "      <td>1876</td>\n",
       "      <td>male</td>\n",
       "    </tr>\n",
       "    <tr>\n",
       "      <th>3</th>\n",
       "      <td>Glady-Alberic_Male-et-femelle_&lt;un tout petit b...</td>\n",
       "      <td>Male</td>\n",
       "      <td>1876</td>\n",
       "      <td>male</td>\n",
       "    </tr>\n",
       "    <tr>\n",
       "      <th>4</th>\n",
       "      <td>Glady-Alberic_Male-et-femelle_&lt;Georges-417&gt;</td>\n",
       "      <td>Female</td>\n",
       "      <td>1876</td>\n",
       "      <td>male</td>\n",
       "    </tr>\n",
       "    <tr>\n",
       "      <th>...</th>\n",
       "      <td>...</td>\n",
       "      <td>...</td>\n",
       "      <td>...</td>\n",
       "      <td>...</td>\n",
       "    </tr>\n",
       "    <tr>\n",
       "      <th>27523</th>\n",
       "      <td>Feval-Paul_Les-Compagnons-du-Silence_&lt;Barbe Sp...</td>\n",
       "      <td>Female</td>\n",
       "      <td>1878</td>\n",
       "      <td>male</td>\n",
       "    </tr>\n",
       "    <tr>\n",
       "      <th>27524</th>\n",
       "      <td>Feval-Paul_Les-Compagnons-du-Silence_&lt;Johann-3...</td>\n",
       "      <td>Male</td>\n",
       "      <td>1878</td>\n",
       "      <td>male</td>\n",
       "    </tr>\n",
       "    <tr>\n",
       "      <th>27525</th>\n",
       "      <td>Feval-Paul_Les-Compagnons-du-Silence_&lt;La perso...</td>\n",
       "      <td>Male</td>\n",
       "      <td>1878</td>\n",
       "      <td>male</td>\n",
       "    </tr>\n",
       "    <tr>\n",
       "      <th>27526</th>\n",
       "      <td>Balzac-Honore-de_Jesus-Christ-en-Flandre_&lt;!Une...</td>\n",
       "      <td>Female</td>\n",
       "      <td>1878</td>\n",
       "      <td>male</td>\n",
       "    </tr>\n",
       "    <tr>\n",
       "      <th>27527</th>\n",
       "      <td>Balzac-Honore-de_Jesus-Christ-en-Flandre_&lt;du d...</td>\n",
       "      <td>Male</td>\n",
       "      <td>1878</td>\n",
       "      <td>male</td>\n",
       "    </tr>\n",
       "  </tbody>\n",
       "</table>\n",
       "<p>27528 rows × 4 columns</p>\n",
       "</div>"
      ],
      "text/plain": [
       "                                               character gender_PER  date  \\\n",
       "0            Glady-Alberic_Male-et-femelle_<Georges-839>     Female  1876   \n",
       "1            Glady-Alberic_Male-et-femelle_<Georges-912>     Female  1876   \n",
       "2      Glady-Alberic_Male-et-femelle_<une maîtresse-1...     Female  1876   \n",
       "3      Glady-Alberic_Male-et-femelle_<un tout petit b...       Male  1876   \n",
       "4            Glady-Alberic_Male-et-femelle_<Georges-417>     Female  1876   \n",
       "...                                                  ...        ...   ...   \n",
       "27523  Feval-Paul_Les-Compagnons-du-Silence_<Barbe Sp...     Female  1878   \n",
       "27524  Feval-Paul_Les-Compagnons-du-Silence_<Johann-3...       Male  1878   \n",
       "27525  Feval-Paul_Les-Compagnons-du-Silence_<La perso...       Male  1878   \n",
       "27526  Balzac-Honore-de_Jesus-Christ-en-Flandre_<!Une...     Female  1878   \n",
       "27527  Balzac-Honore-de_Jesus-Christ-en-Flandre_<du d...       Male  1878   \n",
       "\n",
       "      gender_AUTHOR  \n",
       "0              male  \n",
       "1              male  \n",
       "2              male  \n",
       "3              male  \n",
       "4              male  \n",
       "...             ...  \n",
       "27523          male  \n",
       "27524          male  \n",
       "27525          male  \n",
       "27526          male  \n",
       "27527          male  \n",
       "\n",
       "[27528 rows x 4 columns]"
      ]
     },
     "execution_count": 85,
     "metadata": {},
     "output_type": "execute_result"
    }
   ],
   "source": [
    "list(df_per_corpus.date)"
   ]
  },
  {
   "cell_type": "code",
   "execution_count": 98,
   "id": "34a26bdb",
   "metadata": {},
   "outputs": [],
   "source": [
    "df_per_corpus_male = df_per_corpus[df_per_corpus['gender_AUTHOR']=='male']"
   ]
  },
  {
   "cell_type": "code",
   "execution_count": 99,
   "id": "2702780d",
   "metadata": {},
   "outputs": [],
   "source": [
    "df_per_corpus_female = df_per_corpus[df_per_corpus['gender_AUTHOR']=='female']"
   ]
  },
  {
   "cell_type": "code",
   "execution_count": null,
   "id": "6a4a8b6d",
   "metadata": {},
   "outputs": [],
   "source": []
  },
  {
   "cell_type": "code",
   "execution_count": null,
   "id": "2a142267",
   "metadata": {},
   "outputs": [],
   "source": []
  },
  {
   "cell_type": "code",
   "execution_count": null,
   "id": "cb223324",
   "metadata": {},
   "outputs": [],
   "source": []
  },
  {
   "cell_type": "code",
   "execution_count": 100,
   "id": "69b32f2b",
   "metadata": {},
   "outputs": [],
   "source": [
    "list_decades, list_nbmale_decades,  list_nbfemale_decades, list_female_pourcentage = gender_decades(list(df_per_corpus_male.date), list(df_per_corpus_male.gender_PER))"
   ]
  },
  {
   "cell_type": "code",
   "execution_count": 101,
   "id": "59f43b20",
   "metadata": {},
   "outputs": [],
   "source": [
    "zipped = list(zip(list_decades, list_female_pourcentage))"
   ]
  },
  {
   "cell_type": "code",
   "execution_count": 102,
   "id": "46cd208e",
   "metadata": {},
   "outputs": [],
   "source": [
    "df_gender_repartition = pd.DataFrame(zipped, columns=[\"decades\", \"female_rate\"])"
   ]
  },
  {
   "cell_type": "code",
   "execution_count": null,
   "id": "f971700f",
   "metadata": {},
   "outputs": [],
   "source": []
  },
  {
   "cell_type": "code",
   "execution_count": 141,
   "id": "48b24fc4",
   "metadata": {},
   "outputs": [
    {
     "data": {
      "image/png": "[encoded data removed]",
      "text/plain": [
       "<Figure size 864x504 with 1 Axes>"
      ]
     },
     "metadata": {},
     "output_type": "display_data"
    }
   ],
   "source": [
    "sns.set_style('darkgrid')\n",
    "sns.set_palette('bright')\n",
    "fig, ax = plt.subplots(figsize=(12, 7))\n",
    "p1 = sns.scatterplot(data=df_gender_repartition, x='decades', y='female_rate', ax=ax)\n",
    "p2 = sns.regplot(data=df_gender_repartition, x='decades', y='female_rate', ax=ax, color='blue')\n",
    "\n",
    "plt.title('Fraction of men characters in fiction books written by men')\n",
    "plt.xlabel('Years')\n",
    "plt.ylabel('Percentage')\n",
    "plt.xticks(rotation=60)\n",
    "\n",
    "plt.show()"
   ]
  },
  {
   "cell_type": "code",
   "execution_count": null,
   "id": "63591fb5",
   "metadata": {},
   "outputs": [],
   "source": []
  },
  {
   "cell_type": "code",
   "execution_count": 137,
   "id": "4ac74b7f",
   "metadata": {},
   "outputs": [],
   "source": [
    "list_decades, list_female_pourcentage = gender_decades(list(df_per_corpus_female.date), list(df_per_corpus_female.gender_PER))"
   ]
  },
  {
   "cell_type": "code",
   "execution_count": 138,
   "id": "9e0f5008",
   "metadata": {},
   "outputs": [],
   "source": [
    "zipped = list(zip(list_decades, list_female_pourcentage))"
   ]
  },
  {
   "cell_type": "code",
   "execution_count": 139,
   "id": "9c5e5d3a",
   "metadata": {},
   "outputs": [],
   "source": [
    "df_gender_repartition_female = pd.DataFrame(zipped, columns=[\"decades\", \"female_rate\"])"
   ]
  },
  {
   "cell_type": "code",
   "execution_count": 142,
   "id": "118605b2",
   "metadata": {},
   "outputs": [
    {
     "data": {
      "image/png": "[encoded data removed]",
      "text/plain": [
       "<Figure size 864x504 with 1 Axes>"
      ]
     },
     "metadata": {},
     "output_type": "display_data"
    }
   ],
   "source": [
    "sns.set_style('darkgrid')\n",
    "sns.set_palette('bright')\n",
    "fig, ax = plt.subplots(figsize=(12, 7))\n",
    "p1 = sns.scatterplot(data=df_gender_repartition_female, x='decades', y='female_rate', ax=ax)\n",
    "p2 = sns.regplot(data=df_gender_repartition_female, x='decades', y='female_rate', ax=ax, color='red')\n",
    "\n",
    "plt.title('Fraction of women characters in fiction books written by women')\n",
    "plt.xlabel('Years')\n",
    "plt.ylabel('Percentage')\n",
    "plt.xticks(rotation=60)\n",
    "\n",
    "plt.show()"
   ]
  },
  {
   "cell_type": "code",
   "execution_count": 147,
   "id": "fcc763f4",
   "metadata": {},
   "outputs": [
    {
     "data": {
      "image/png": "[encoded data removed]",
      "text/plain": [
       "<Figure size 864x504 with 1 Axes>"
      ]
     },
     "metadata": {},
     "output_type": "display_data"
    }
   ],
   "source": [
    "sns.set_style('darkgrid')\n",
    "sns.set_palette('bright')\n",
    "fig, ax = plt.subplots(figsize=(12, 7))\n",
    "p1 = sns.regplot(data=df_gender_repartition, x='decades', y='female_rate', ax=ax, color='blue')\n",
    "p2 = sns.regplot(data=df_gender_repartition_female, x='decades', y='female_rate', ax=ax, color='red')\n",
    "plt.title('Percentage of women characters in fiction books written by women and men')\n",
    "plt.xlabel('Years')\n",
    "plt.ylabel('Percentage')\n",
    "\n",
    "plt.show()"
   ]
  },
  {
   "cell_type": "code",
   "execution_count": null,
   "id": "8ef29f1e",
   "metadata": {},
   "outputs": [],
   "source": []
  }
 ],
 "metadata": {
  "kernelspec": {
   "display_name": "Python 3 (ipykernel)",
   "language": "python",
   "name": "python3"
  },
  "language_info": {
   "codemirror_mode": {
    "name": "ipython",
    "version": 3
   },
   "file_extension": ".py",
   "mimetype": "text/x-python",
   "name": "python",
   "nbconvert_exporter": "python",
   "pygments_lexer": "ipython3",
   "version": "3.9.12"
  }
 },
 "nbformat": 4,
 "nbformat_minor": 5
}
