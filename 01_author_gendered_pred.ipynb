{
 "cells": [
  {
   "cell_type": "code",
   "execution_count": 2,
   "metadata": {},
   "outputs": [],
   "source": [
    "import pandas as pd\n",
    "import numpy as np\n",
    "from sklearn import set_config\n",
    "from sklearn import metrics\n",
    "from sklearn.metrics import r2_score, mean_absolute_error, mean_squared_error\n",
    "from sklearn.pipeline import make_pipeline\n",
    "from sklearn.preprocessing import StandardScaler\n",
    "from sklearn.svm import SVC\n",
    "from sklearn.linear_model import LogisticRegression\n",
    "from sklearn.model_selection import train_test_split\n",
    "from sklearn.preprocessing import Normalizer\n",
    "from sklearn.model_selection import cross_validate, cross_val_score\n",
    "from sklearn.metrics import make_scorer, accuracy_score, precision_score, recall_score, f1_score\n",
    "from sklearn.model_selection import ShuffleSplit\n",
    "from sklearn.metrics import ConfusionMatrixDisplay\n",
    "from sklearn.utils import shuffle\n",
    "import seaborn as sns\n",
    "import matplotlib.pyplot as plt\n",
    "import random\n",
    "from collections import Counter"
   ]
  },
  {
   "cell_type": "code",
   "execution_count": 3,
   "metadata": {},
   "outputs": [],
   "source": [
    "set_config(display='diagram')"
   ]
  },
  {
   "cell_type": "markdown",
   "metadata": {},
   "source": [
    "### Canonizer sklearn svm pipeline"
   ]
  },
  {
   "cell_type": "code",
   "execution_count": 4,
   "metadata": {},
   "outputs": [],
   "source": [
    "def plot_coefficients(coefs, feature_names, top_features):\n",
    "    top_positive_coefficients = np.argsort(coefs)[-top_features:]\n",
    "    top_negative_coefficients = np.argsort(coefs)[:top_features]\n",
    "    top_coefficients = np.hstack([top_negative_coefficients, top_positive_coefficients])\n",
    "    # create plot\n",
    "    plt.figure(figsize=(15, 5))\n",
    "    colors = ['red' if c < 0 else 'blue' for c in coefs[top_coefficients]]\n",
    "    plt.bar(np.arange(2 * top_features), coefs[top_coefficients], color=colors)\n",
    "    feature_names = np.array(feature_names)\n",
    "    plt.xticks(np.arange(0, 2 * top_features), feature_names[top_coefficients], rotation=60, ha='right')\n",
    "    plt.title(\"Meilleurs coefficients pour la classification binaire\")\n",
    "    plt.savefig('img/coefs_linear_svm.png')\n",
    "    plt.show()"
   ]
  },
  {
   "cell_type": "code",
   "execution_count": 28,
   "metadata": {},
   "outputs": [],
   "source": [
    "def canonizer(data, test_size=0.2, random_state=42, sampling=None, cross_validation=False, cv=5, kernel='rbf', nb_coef=20):\n",
    "    \n",
    "    df_results = pd.DataFrame()\n",
    "    \n",
    "    if cross_validation == True:\n",
    "        \n",
    "        pipe = make_pipeline(StandardScaler(), SVC(kernel=kernel, probability=True))\n",
    "        \n",
    "        #cv_results = cross_validate(pipe, data.drop(['canon'], axis=1), data['canon'], cv=cv, scoring='precision')\n",
    "        cv_results = cross_val_score(pipe, data.drop(['gender'], axis=1), data['gender'], cv=cv, scoring=make_scorer(classification_report_with_accuracy_score))\n",
    "        return pipe, cv_results\n",
    "    \n",
    "    else:\n",
    "        if kernel == 'rbf':\n",
    "            pipe = make_pipeline(StandardScaler(), Normalizer(), SVC(kernel=kernel, probability=True))\n",
    "        else:\n",
    "            pipe = make_pipeline(StandardScaler(), SVC(kernel=kernel, probability=True))\n",
    "    \n",
    "\n",
    "        X_train, X_test, y_train, y_test = train_test_split(data.drop(['gender'], axis=1), data['gender'], test_size=test_size, random_state=random_state)\n",
    "        print('Original dataset shape {}'.format(Counter(y_train)))\n",
    "        \n",
    "    pipe.fit(X_train, y_train)\n",
    "        \n",
    "    report = metrics.classification_report(y_test, pipe.predict(X_test), output_dict=True)\n",
    "    df_scores = pd.DataFrame(report).transpose()\n",
    "    print(df_scores)\n",
    "\n",
    "    _ = ConfusionMatrixDisplay.from_estimator(pipe, X_test, y_test)\n",
    "                   \n",
    "    df_results['metadata'] = y_test\n",
    "    df_results['proba male'] = pipe.predict_proba(X_test)[:,0]\n",
    "    df_results['proba female'] = pipe.predict_proba(X_test)[:,1]\n",
    "    df_results['prediction']= pipe.predict(X_test)\n",
    "        \n",
    "    df_results['accord'] = [True if row['metadata'] == row['prediction'] else False for index, row in df_results.iterrows()]\n",
    "    \n",
    "    if kernel == 'linear':\n",
    "        coefs = pipe.named_steps['svc'].coef_\n",
    "        plot_coefficients(*coefs, data.columns, nb_coef)\n",
    "        coef_names = data.columns\n",
    "        return pipe, df_results, df_scores, coefs, coef_names\n",
    "\n",
    "    return pipe, df_results, df_scores"
   ]
  },
  {
   "cell_type": "code",
   "execution_count": 6,
   "metadata": {},
   "outputs": [],
   "source": [
    "from sklearn.metrics import classification_report, accuracy_score, make_scorer\n",
    "\n",
    "def classification_report_with_accuracy_score(y_true, y_pred):\n",
    "    print(classification_report(y_true, y_pred))\n",
    "    return accuracy_score(y_true, y_pred)"
   ]
  },
  {
   "cell_type": "code",
   "execution_count": 7,
   "metadata": {},
   "outputs": [],
   "source": [
    "df_main = pd.read_csv(r'/home/crazyjeannot/Documents/master/M2/master_thesis/data/features.csv')\n",
    "df_main.set_index(\"index\", inplace = True)\n",
    "df_main = df_main.replace(np.nan, 0)"
   ]
  },
  {
   "cell_type": "code",
   "execution_count": 10,
   "metadata": {},
   "outputs": [],
   "source": [
    "df_metadata_corpus = pd.read_csv(r'metadata/corpus_gendered.csv')\n",
    "df_metadata_corpus.set_index(\"doc_name\", inplace = True)\n",
    "df_metadata_corpus = df_metadata_corpus.replace(np.nan, 'male')"
   ]
  },
  {
   "cell_type": "code",
   "execution_count": 11,
   "metadata": {},
   "outputs": [
    {
     "data": {
      "text/plain": [
       "male      2334\n",
       "female     626\n",
       "Name: gender, dtype: int64"
      ]
     },
     "execution_count": 11,
     "metadata": {},
     "output_type": "execute_result"
    }
   ],
   "source": [
    "df_metadata_corpus.gender.value_counts()"
   ]
  },
  {
   "cell_type": "code",
   "execution_count": 12,
   "metadata": {},
   "outputs": [],
   "source": [
    "def list_gender_opti(df_main, df_metadata_corpus):\n",
    "    list_gender = []\n",
    "    for elem in df_main.index:\n",
    "        if elem in df_metadata_corpus.index:\n",
    "            list_gender.append(df_metadata_corpus.loc[[elem]]['gender'][0])\n",
    "            \n",
    "    return list_gender"
   ]
  },
  {
   "cell_type": "code",
   "execution_count": 13,
   "metadata": {},
   "outputs": [],
   "source": [
    "list_gender = list_gender_opti(df_main, df_metadata_corpus)"
   ]
  },
  {
   "cell_type": "code",
   "execution_count": 14,
   "metadata": {},
   "outputs": [
    {
     "data": {
      "text/plain": [
       "2960"
      ]
     },
     "execution_count": 14,
     "metadata": {},
     "output_type": "execute_result"
    }
   ],
   "source": [
    "len(list_gender)"
   ]
  },
  {
   "cell_type": "code",
   "execution_count": 15,
   "metadata": {},
   "outputs": [],
   "source": [
    "df_main['gender'] = list_gender"
   ]
  },
  {
   "cell_type": "code",
   "execution_count": 16,
   "metadata": {},
   "outputs": [],
   "source": [
    "df_main_gendered = df_main[(df_main['gender']== 'male')|(df_main['gender']== 'female')]"
   ]
  },
  {
   "cell_type": "code",
   "execution_count": 17,
   "metadata": {},
   "outputs": [
    {
     "data": {
      "text/plain": [
       "male      0.788514\n",
       "female    0.211486\n",
       "Name: gender, dtype: float64"
      ]
     },
     "execution_count": 17,
     "metadata": {},
     "output_type": "execute_result"
    }
   ],
   "source": [
    "df_main_gendered.gender.value_counts(normalize=True)"
   ]
  },
  {
   "cell_type": "markdown",
   "metadata": {},
   "source": [
    "### Get balanced dataset with "
   ]
  },
  {
   "cell_type": "code",
   "execution_count": 18,
   "metadata": {},
   "outputs": [],
   "source": [
    "def ratio_truncate_df(df, ratio_canon):\n",
    "    \n",
    "    df_res = shuffle(df)\n",
    "    ratio_temp = round(df_res['gender'].value_counts(normalize=True)[1],2)\n",
    "    index_noncanon = df_res[df_res['gender']  == 'male'].index \n",
    "    i, j = 0, 20\n",
    "        \n",
    "    while ratio_temp < ratio_canon:\n",
    "        df_res.drop(index_noncanon[i:j], inplace = True)\n",
    "        i = j\n",
    "        j+=20\n",
    "        ratio_temp = round(df_res['gender'].value_counts(normalize=True)[1],2)\n",
    "\n",
    "    return shuffle(df_res)"
   ]
  },
  {
   "cell_type": "code",
   "execution_count": 19,
   "metadata": {},
   "outputs": [],
   "source": [
    "df_sizeopti_gendered = ratio_truncate_df(df_main_gendered, 0.4)"
   ]
  },
  {
   "cell_type": "code",
   "execution_count": 20,
   "metadata": {},
   "outputs": [
    {
     "data": {
      "text/plain": [
       "male      0.603797\n",
       "female    0.396203\n",
       "Name: gender, dtype: float64"
      ]
     },
     "execution_count": 20,
     "metadata": {},
     "output_type": "execute_result"
    }
   ],
   "source": [
    "df_sizeopti_gendered.gender.value_counts(normalize=True)"
   ]
  },
  {
   "cell_type": "code",
   "execution_count": 21,
   "metadata": {},
   "outputs": [
    {
     "name": "stdout",
     "output_type": "stream",
     "text": [
      "Original dataset shape Counter({'male': 759, 'female': 505})\n",
      "              precision    recall  f1-score     support\n",
      "female         0.931624  0.900826  0.915966  121.000000\n",
      "male           0.939698  0.958974  0.949239  195.000000\n",
      "accuracy       0.936709  0.936709  0.936709    0.936709\n",
      "macro avg      0.935661  0.929900  0.932602  316.000000\n",
      "weighted avg   0.936607  0.936709  0.936498  316.000000\n"
     ]
    },
    {
     "data": {
      "image/png": "[encoded data removed]",
      "text/plain": [
       "<Figure size 432x288 with 2 Axes>"
      ]
     },
     "metadata": {
      "needs_background": "light"
     },
     "output_type": "display_data"
    }
   ],
   "source": [
    "pipe, results, scores = canonizer(df_sizeopti_gendered)"
   ]
  },
  {
   "cell_type": "code",
   "execution_count": null,
   "metadata": {},
   "outputs": [],
   "source": []
  },
  {
   "cell_type": "code",
   "execution_count": 23,
   "metadata": {},
   "outputs": [],
   "source": [
    "df_unigram = df_sizeopti_gendered.iloc[:, 0:1000]"
   ]
  },
  {
   "cell_type": "code",
   "execution_count": 24,
   "metadata": {},
   "outputs": [],
   "source": [
    "df_unigram['gender'] = df_sizeopti_gendered['gender']"
   ]
  },
  {
   "cell_type": "code",
   "execution_count": 25,
   "metadata": {},
   "outputs": [
    {
     "name": "stdout",
     "output_type": "stream",
     "text": [
      "Original dataset shape Counter({'male': 759, 'female': 505})\n",
      "              precision    recall  f1-score     support\n",
      "female         0.931624  0.900826  0.915966  121.000000\n",
      "male           0.939698  0.958974  0.949239  195.000000\n",
      "accuracy       0.936709  0.936709  0.936709    0.936709\n",
      "macro avg      0.935661  0.929900  0.932602  316.000000\n",
      "weighted avg   0.936607  0.936709  0.936498  316.000000\n"
     ]
    },
    {
     "data": {
      "image/png": "[encoded data removed]",
      "text/plain": [
       "<Figure size 432x288 with 2 Axes>"
      ]
     },
     "metadata": {
      "needs_background": "light"
     },
     "output_type": "display_data"
    }
   ],
   "source": [
    "pipe, results, scores = canonizer(df_unigram)"
   ]
  },
  {
   "cell_type": "code",
   "execution_count": 29,
   "metadata": {},
   "outputs": [
    {
     "name": "stdout",
     "output_type": "stream",
     "text": [
      "Original dataset shape Counter({'male': 759, 'female': 505})\n",
      "              precision    recall  f1-score     support\n",
      "female         0.844262  0.851240  0.847737  121.000000\n",
      "male           0.907216  0.902564  0.904884  195.000000\n",
      "accuracy       0.882911  0.882911  0.882911    0.882911\n",
      "macro avg      0.875739  0.876902  0.876310  316.000000\n",
      "weighted avg   0.883111  0.882911  0.883002  316.000000\n"
     ]
    },
    {
     "data": {
      "image/png": "[encoded data removed]",
      "text/plain": [
       "<Figure size 432x288 with 2 Axes>"
      ]
     },
     "metadata": {
      "needs_background": "light"
     },
     "output_type": "display_data"
    },
    {
     "data": {
      "image/png": "[encoded data removed]",
      "text/plain": [
       "<Figure size 1080x360 with 1 Axes>"
      ]
     },
     "metadata": {
      "needs_background": "light"
     },
     "output_type": "display_data"
    }
   ],
   "source": [
    "pipe, results, scores, coefs, coefs_name = canonizer(df_unigram, kernel='linear')"
   ]
  },
  {
   "cell_type": "markdown",
   "metadata": {},
   "source": [
    "### RANDOM TEST"
   ]
  },
  {
   "cell_type": "code",
   "execution_count": 93,
   "metadata": {},
   "outputs": [],
   "source": [
    "df_gendered_random = df_unigram.iloc[:, 0:1000]"
   ]
  },
  {
   "cell_type": "code",
   "execution_count": 99,
   "metadata": {},
   "outputs": [],
   "source": [
    "df_gendered_random['gender'] = ['male' if random.randint(0, 1) else 'female' for i in range(len(df_gendered_random))]"
   ]
  },
  {
   "cell_type": "code",
   "execution_count": 100,
   "metadata": {},
   "outputs": [
    {
     "name": "stdout",
     "output_type": "stream",
     "text": [
      "Original dataset shape Counter({'female': 641, 'male': 617})\n",
      "              precision    recall  f1-score    support\n",
      "female         0.467066  0.513158  0.489028  152.00000\n",
      "male           0.500000  0.453988  0.475884  163.00000\n",
      "accuracy       0.482540  0.482540  0.482540    0.48254\n",
      "macro avg      0.483533  0.483573  0.482456  315.00000\n",
      "weighted avg   0.484108  0.482540  0.482227  315.00000\n"
     ]
    },
    {
     "data": {
      "image/png": "[encoded data removed]",
      "text/plain": [
       "<Figure size 432x288 with 2 Axes>"
      ]
     },
     "metadata": {
      "needs_background": "light"
     },
     "output_type": "display_data"
    }
   ],
   "source": [
    "pipe, results, scores = canonizer(df_gendered_random)"
   ]
  },
  {
   "cell_type": "markdown",
   "metadata": {},
   "source": [
    "### Cross-Validation"
   ]
  },
  {
   "cell_type": "code",
   "execution_count": 110,
   "metadata": {},
   "outputs": [
    {
     "name": "stdout",
     "output_type": "stream",
     "text": [
      "              precision    recall  f1-score   support\n",
      "\n",
      "      female       0.92      0.82      0.86       125\n",
      "        male       0.89      0.95      0.92       190\n",
      "\n",
      "    accuracy                           0.90       315\n",
      "   macro avg       0.90      0.88      0.89       315\n",
      "weighted avg       0.90      0.90      0.90       315\n",
      "\n",
      "              precision    recall  f1-score   support\n",
      "\n",
      "      female       0.92      0.82      0.86       125\n",
      "        male       0.89      0.95      0.92       190\n",
      "\n",
      "    accuracy                           0.90       315\n",
      "   macro avg       0.90      0.88      0.89       315\n",
      "weighted avg       0.90      0.90      0.90       315\n",
      "\n",
      "              precision    recall  f1-score   support\n",
      "\n",
      "      female       0.90      0.80      0.85       126\n",
      "        male       0.88      0.94      0.91       189\n",
      "\n",
      "    accuracy                           0.89       315\n",
      "   macro avg       0.89      0.87      0.88       315\n",
      "weighted avg       0.89      0.89      0.88       315\n",
      "\n",
      "              precision    recall  f1-score   support\n",
      "\n",
      "      female       0.94      0.82      0.87       125\n",
      "        male       0.89      0.96      0.92       189\n",
      "\n",
      "    accuracy                           0.90       314\n",
      "   macro avg       0.91      0.89      0.90       314\n",
      "weighted avg       0.91      0.90      0.90       314\n",
      "\n",
      "              precision    recall  f1-score   support\n",
      "\n",
      "      female       0.92      0.87      0.89       125\n",
      "        male       0.92      0.95      0.93       189\n",
      "\n",
      "    accuracy                           0.92       314\n",
      "   macro avg       0.92      0.91      0.91       314\n",
      "weighted avg       0.92      0.92      0.92       314\n",
      "\n"
     ]
    }
   ],
   "source": [
    "pipe, results = canonizer(df_unigram, cross_validation=True)"
   ]
  },
  {
   "cell_type": "code",
   "execution_count": 111,
   "metadata": {},
   "outputs": [
    {
     "data": {
      "text/plain": [
       "0.9008391466990193"
      ]
     },
     "execution_count": 111,
     "metadata": {},
     "output_type": "execute_result"
    }
   ],
   "source": [
    "sum(results)/len(results)"
   ]
  },
  {
   "cell_type": "code",
   "execution_count": 109,
   "metadata": {},
   "outputs": [
    {
     "data": {
      "text/plain": [
       "0.9116368415731474"
      ]
     },
     "execution_count": 109,
     "metadata": {},
     "output_type": "execute_result"
    }
   ],
   "source": [
    "sum(results)/len(results)"
   ]
  },
  {
   "cell_type": "code",
   "execution_count": null,
   "metadata": {},
   "outputs": [],
   "source": []
  },
  {
   "cell_type": "markdown",
   "metadata": {},
   "source": [
    "### Get dataset with one novel per author"
   ]
  },
  {
   "cell_type": "code",
   "execution_count": 23,
   "metadata": {},
   "outputs": [],
   "source": [
    "def onetxtoneauthor(df):\n",
    "    liste_vu, index_vu = [], []\n",
    "    df_onetxtoneauthor = pd.DataFrame(columns = df.columns)\n",
    "    \n",
    "    for index, row in df.iterrows():\n",
    "        auteur = index.split(\"_\")[1].replace('-',' ')\n",
    "        if auteur not in liste_vu:\n",
    "            df_onetxtoneauthor.loc[len(df_onetxtoneauthor.index)] = row\n",
    "            liste_vu.append(auteur)\n",
    "            index_vu.append(index)\n",
    "    df_onetxtoneauthor.index = index_vu\n",
    "    return df_onetxtoneauthor"
   ]
  },
  {
   "cell_type": "code",
   "execution_count": 37,
   "metadata": {},
   "outputs": [],
   "source": [
    "df_unigrams_ones = onetxtoneauthor(df_unigram)"
   ]
  },
  {
   "cell_type": "code",
   "execution_count": 38,
   "metadata": {},
   "outputs": [
    {
     "data": {
      "text/plain": [
       "male      0.706\n",
       "female    0.294\n",
       "Name: gender, dtype: float64"
      ]
     },
     "execution_count": 38,
     "metadata": {},
     "output_type": "execute_result"
    }
   ],
   "source": [
    "df_unigrams_ones.gender.value_counts(normalize=True)"
   ]
  },
  {
   "cell_type": "code",
   "execution_count": 50,
   "metadata": {},
   "outputs": [],
   "source": [
    "df_unigrams_ones_opti = ratio_truncate_df(df_unigrams_ones, 0.48)"
   ]
  },
  {
   "cell_type": "code",
   "execution_count": null,
   "metadata": {},
   "outputs": [],
   "source": []
  },
  {
   "cell_type": "code",
   "execution_count": 51,
   "metadata": {},
   "outputs": [
    {
     "data": {
      "text/plain": [
       "male      0.51\n",
       "female    0.49\n",
       "Name: gender, dtype: float64"
      ]
     },
     "execution_count": 51,
     "metadata": {},
     "output_type": "execute_result"
    }
   ],
   "source": [
    "df_unigrams_ones_opti.gender.value_counts(normalize=True)"
   ]
  },
  {
   "cell_type": "code",
   "execution_count": 52,
   "metadata": {},
   "outputs": [
    {
     "name": "stdout",
     "output_type": "stream",
     "text": [
      "Original dataset shape Counter({'female': 122, 'male': 118})\n",
      "              precision    recall  f1-score  support\n",
      "female         0.807692  0.840000  0.823529    25.00\n",
      "male           0.882353  0.857143  0.869565    35.00\n",
      "accuracy       0.850000  0.850000  0.850000     0.85\n",
      "macro avg      0.845023  0.848571  0.846547    60.00\n",
      "weighted avg   0.851244  0.850000  0.850384    60.00\n"
     ]
    },
    {
     "data": {
      "image/png": "[encoded data removed]",
      "text/plain": [
       "<Figure size 432x288 with 2 Axes>"
      ]
     },
     "metadata": {
      "needs_background": "light"
     },
     "output_type": "display_data"
    }
   ],
   "source": [
    "pipe, results, scores = canonizer(df_unigrams_ones_opti)"
   ]
  },
  {
   "cell_type": "code",
   "execution_count": 53,
   "metadata": {},
   "outputs": [
    {
     "name": "stdout",
     "output_type": "stream",
     "text": [
      "              precision    recall  f1-score   support\n",
      "\n",
      "      female       0.72      0.79      0.75        29\n",
      "        male       0.79      0.71      0.75        31\n",
      "\n",
      "    accuracy                           0.75        60\n",
      "   macro avg       0.75      0.75      0.75        60\n",
      "weighted avg       0.75      0.75      0.75        60\n",
      "\n",
      "              precision    recall  f1-score   support\n",
      "\n",
      "      female       0.91      0.69      0.78        29\n",
      "        male       0.76      0.94      0.84        31\n",
      "\n",
      "    accuracy                           0.82        60\n",
      "   macro avg       0.84      0.81      0.81        60\n",
      "weighted avg       0.83      0.82      0.81        60\n",
      "\n",
      "              precision    recall  f1-score   support\n",
      "\n",
      "      female       0.81      0.76      0.79        29\n",
      "        male       0.79      0.84      0.81        31\n",
      "\n",
      "    accuracy                           0.80        60\n",
      "   macro avg       0.80      0.80      0.80        60\n",
      "weighted avg       0.80      0.80      0.80        60\n",
      "\n",
      "              precision    recall  f1-score   support\n",
      "\n",
      "      female       0.80      0.67      0.73        30\n",
      "        male       0.71      0.83      0.77        30\n",
      "\n",
      "    accuracy                           0.75        60\n",
      "   macro avg       0.76      0.75      0.75        60\n",
      "weighted avg       0.76      0.75      0.75        60\n",
      "\n",
      "              precision    recall  f1-score   support\n",
      "\n",
      "      female       0.75      0.70      0.72        30\n",
      "        male       0.72      0.77      0.74        30\n",
      "\n",
      "    accuracy                           0.73        60\n",
      "   macro avg       0.73      0.73      0.73        60\n",
      "weighted avg       0.73      0.73      0.73        60\n",
      "\n"
     ]
    }
   ],
   "source": [
    "pipe, results = canonizer(df_unigrams_ones_opti, cross_validation=True)"
   ]
  },
  {
   "cell_type": "code",
   "execution_count": 54,
   "metadata": {},
   "outputs": [
    {
     "data": {
      "text/plain": [
       "0.77"
      ]
     },
     "execution_count": 54,
     "metadata": {},
     "output_type": "execute_result"
    }
   ],
   "source": [
    "sum(results)/len(results)"
   ]
  },
  {
   "cell_type": "code",
   "execution_count": null,
   "metadata": {},
   "outputs": [],
   "source": []
  },
  {
   "cell_type": "markdown",
   "metadata": {},
   "source": [
    "### Get dataset with max 5 novels per author "
   ]
  },
  {
   "cell_type": "code",
   "execution_count": 63,
   "metadata": {},
   "outputs": [],
   "source": [
    "def max_five_txt_by_author(df, n):\n",
    "    liste_vu, index_vu = [], []\n",
    "    df_onetxtoneauthor = pd.DataFrame(columns = df.columns)\n",
    "    \n",
    "    for index, row in df.iterrows():\n",
    "        auteur = index.split(\"_\")[1].replace('-',' ')\n",
    "        \n",
    "        if Counter(liste_vu)[auteur] <= 5:          \n",
    "            df_onetxtoneauthor.loc[len(df_onetxtoneauthor.index)] = row\n",
    "            liste_vu.append(auteur)\n",
    "            index_vu.append(index)\n",
    "    df_onetxtoneauthor.index = index_vu\n",
    "    return df_onetxtoneauthor"
   ]
  },
  {
   "cell_type": "code",
   "execution_count": 65,
   "metadata": {},
   "outputs": [],
   "source": [
    "df_unigrams_fives = max_five_txt_by_author(df_unigram, 5)"
   ]
  },
  {
   "cell_type": "code",
   "execution_count": 66,
   "metadata": {},
   "outputs": [
    {
     "data": {
      "text/plain": [
       "male      0.662791\n",
       "female    0.337209\n",
       "Name: gender, dtype: float64"
      ]
     },
     "execution_count": 66,
     "metadata": {},
     "output_type": "execute_result"
    }
   ],
   "source": [
    "df_unigrams_fives.gender.value_counts(normalize=True)"
   ]
  },
  {
   "cell_type": "code",
   "execution_count": null,
   "metadata": {},
   "outputs": [],
   "source": []
  },
  {
   "cell_type": "code",
   "execution_count": 67,
   "metadata": {},
   "outputs": [
    {
     "name": "stdout",
     "output_type": "stream",
     "text": [
      "Original dataset shape Counter({'male': 598, 'female': 296})\n",
      "              precision    recall  f1-score     support\n",
      "female         0.950820  0.716049  0.816901   81.000000\n",
      "male           0.858896  0.979021  0.915033  143.000000\n",
      "accuracy       0.883929  0.883929  0.883929    0.883929\n",
      "macro avg      0.904858  0.847535  0.865967  224.000000\n",
      "weighted avg   0.892136  0.883929  0.879548  224.000000\n"
     ]
    },
    {
     "data": {
      "image/png": "[encoded data removed]",
      "text/plain": [
       "<Figure size 432x288 with 2 Axes>"
      ]
     },
     "metadata": {
      "needs_background": "light"
     },
     "output_type": "display_data"
    }
   ],
   "source": [
    "pipe, results, scores = canonizer(df_unigrams_fives)"
   ]
  },
  {
   "cell_type": "code",
   "execution_count": 68,
   "metadata": {},
   "outputs": [
    {
     "name": "stdout",
     "output_type": "stream",
     "text": [
      "              precision    recall  f1-score   support\n",
      "\n",
      "      female       0.92      0.72      0.81        76\n",
      "        male       0.87      0.97      0.92       148\n",
      "\n",
      "    accuracy                           0.88       224\n",
      "   macro avg       0.89      0.84      0.86       224\n",
      "weighted avg       0.89      0.88      0.88       224\n",
      "\n",
      "              precision    recall  f1-score   support\n",
      "\n",
      "      female       0.87      0.76      0.81        76\n",
      "        male       0.89      0.94      0.91       148\n",
      "\n",
      "    accuracy                           0.88       224\n",
      "   macro avg       0.88      0.85      0.86       224\n",
      "weighted avg       0.88      0.88      0.88       224\n",
      "\n",
      "              precision    recall  f1-score   support\n",
      "\n",
      "      female       0.94      0.63      0.75        75\n",
      "        male       0.84      0.98      0.90       149\n",
      "\n",
      "    accuracy                           0.86       224\n",
      "   macro avg       0.89      0.80      0.83       224\n",
      "weighted avg       0.87      0.86      0.85       224\n",
      "\n",
      "              precision    recall  f1-score   support\n",
      "\n",
      "      female       0.88      0.76      0.81        75\n",
      "        male       0.89      0.95      0.92       148\n",
      "\n",
      "    accuracy                           0.88       223\n",
      "   macro avg       0.88      0.85      0.86       223\n",
      "weighted avg       0.88      0.88      0.88       223\n",
      "\n",
      "              precision    recall  f1-score   support\n",
      "\n",
      "      female       0.98      0.67      0.79        75\n",
      "        male       0.85      0.99      0.92       148\n",
      "\n",
      "    accuracy                           0.88       223\n",
      "   macro avg       0.92      0.83      0.86       223\n",
      "weighted avg       0.90      0.88      0.88       223\n",
      "\n"
     ]
    }
   ],
   "source": [
    "pipe, results = canonizer(df_unigrams_fives, cross_validation=True)"
   ]
  },
  {
   "cell_type": "code",
   "execution_count": 69,
   "metadata": {},
   "outputs": [
    {
     "data": {
      "text/plain": [
       "0.8783632286995516"
      ]
     },
     "execution_count": 69,
     "metadata": {},
     "output_type": "execute_result"
    }
   ],
   "source": [
    "sum(results)/len(results)"
   ]
  },
  {
   "cell_type": "code",
   "execution_count": null,
   "metadata": {},
   "outputs": [],
   "source": []
  }
 ],
 "metadata": {
  "kernelspec": {
   "display_name": "Python 3 (ipykernel)",
   "language": "python",
   "name": "python3"
  },
  "language_info": {
   "codemirror_mode": {
    "name": "ipython",
    "version": 3
   },
   "file_extension": ".py",
   "mimetype": "text/x-python",
   "name": "python",
   "nbconvert_exporter": "python",
   "pygments_lexer": "ipython3",
   "version": "3.9.12"
  }
 },
 "nbformat": 4,
 "nbformat_minor": 4
}
