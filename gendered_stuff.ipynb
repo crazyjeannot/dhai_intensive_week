{
 "cells": [
  {
   "cell_type": "code",
   "execution_count": 16,
   "metadata": {},
   "outputs": [],
   "source": [
    "import pandas as pd\n",
    "import seaborn as sns\n",
    "import matplotlib.pyplot as plt"
   ]
  },
  {
   "cell_type": "code",
   "execution_count": null,
   "metadata": {},
   "outputs": [],
   "source": []
  },
  {
   "cell_type": "code",
   "execution_count": null,
   "metadata": {},
   "outputs": [],
   "source": []
  },
  {
   "cell_type": "code",
   "execution_count": 7,
   "metadata": {},
   "outputs": [
    {
     "data": {
      "text/plain": [
       "'/home/crazyjeannot/Documents/Doctorat/literary_gender_trouble-main'"
      ]
     },
     "execution_count": 7,
     "metadata": {},
     "output_type": "execute_result"
    }
   ],
   "source": [
    "pwd()"
   ]
  },
  {
   "cell_type": "code",
   "execution_count": 2,
   "metadata": {},
   "outputs": [],
   "source": [
    "df_corpus = pd.read_csv(r'../../master/M2/master_thesis/meta_data/corpus.csv')"
   ]
  },
  {
   "cell_type": "code",
   "execution_count": 3,
   "metadata": {},
   "outputs": [
    {
     "data": {
      "text/html": [
       "<div>\n",
       "<style scoped>\n",
       "    .dataframe tbody tr th:only-of-type {\n",
       "        vertical-align: middle;\n",
       "    }\n",
       "\n",
       "    .dataframe tbody tr th {\n",
       "        vertical-align: top;\n",
       "    }\n",
       "\n",
       "    .dataframe thead th {\n",
       "        text-align: right;\n",
       "    }\n",
       "</style>\n",
       "<table border=\"1\" class=\"dataframe\">\n",
       "  <thead>\n",
       "    <tr style=\"text-align: right;\">\n",
       "      <th></th>\n",
       "      <th>doc_name</th>\n",
       "      <th>date</th>\n",
       "      <th>auteur</th>\n",
       "      <th>titre</th>\n",
       "      <th>fabula</th>\n",
       "      <th>gender</th>\n",
       "      <th>canon</th>\n",
       "    </tr>\n",
       "  </thead>\n",
       "  <tbody>\n",
       "    <tr>\n",
       "      <th>0</th>\n",
       "      <td>1811_Chateaubriand-François-Rene-de_Oeuvres-co...</td>\n",
       "      <td>1811</td>\n",
       "      <td>françois rene de chateaubriand</td>\n",
       "      <td>oeuvres completes</td>\n",
       "      <td>True</td>\n",
       "      <td>male</td>\n",
       "      <td>canon</td>\n",
       "    </tr>\n",
       "    <tr>\n",
       "      <th>1</th>\n",
       "      <td>1812_Kock-Paul-de_L-enfant-de-ma-femme</td>\n",
       "      <td>1812</td>\n",
       "      <td>paul de kock</td>\n",
       "      <td>l enfant de ma femme</td>\n",
       "      <td>False</td>\n",
       "      <td>male</td>\n",
       "      <td>non-canon</td>\n",
       "    </tr>\n",
       "  </tbody>\n",
       "</table>\n",
       "</div>"
      ],
      "text/plain": [
       "                                            doc_name  date  \\\n",
       "0  1811_Chateaubriand-François-Rene-de_Oeuvres-co...  1811   \n",
       "1             1812_Kock-Paul-de_L-enfant-de-ma-femme  1812   \n",
       "\n",
       "                           auteur                 titre  fabula gender  \\\n",
       "0  françois rene de chateaubriand     oeuvres completes    True   male   \n",
       "1                    paul de kock  l enfant de ma femme   False   male   \n",
       "\n",
       "       canon  \n",
       "0      canon  \n",
       "1  non-canon  "
      ]
     },
     "execution_count": 3,
     "metadata": {},
     "output_type": "execute_result"
    }
   ],
   "source": [
    "df_corpus[0:2]"
   ]
  },
  {
   "cell_type": "code",
   "execution_count": null,
   "metadata": {},
   "outputs": [],
   "source": []
  },
  {
   "cell_type": "markdown",
   "metadata": {},
   "source": [
    "### Pourcentage de romans écrits par des femmes"
   ]
  },
  {
   "cell_type": "markdown",
   "metadata": {},
   "source": [
    "## Corpus Chapitres"
   ]
  },
  {
   "cell_type": "code",
   "execution_count": 4,
   "metadata": {},
   "outputs": [],
   "source": [
    "list_dates = [int(date) for date in df_corpus['date']]"
   ]
  },
  {
   "cell_type": "code",
   "execution_count": 8,
   "metadata": {},
   "outputs": [],
   "source": [
    "def decades(list_dates):\n",
    "    list_decades, list_decades_vues, list_nb_romans_decades = [], [], []\n",
    "    i, nb_romans_decades = 0, 0\n",
    "    for i in range(len(list_dates)):\n",
    "        nb_romans_decades+=1\n",
    "        if list_dates[i] % 10 == 1 and list_dates[i] != 1811 and list_dates[i] not in list_decades_vues:#10==1\n",
    "            list_decades.append(list_dates[i]-1)\n",
    "            list_decades_vues.append(list_dates[i])\n",
    "            list_nb_romans_decades.append(nb_romans_decades)\n",
    "            nb_romans_decades = 0\n",
    "\n",
    "    return list_decades, list_nb_romans_decades"
   ]
  },
  {
   "cell_type": "code",
   "execution_count": 9,
   "metadata": {},
   "outputs": [],
   "source": [
    "list_decades, list_nb_romans_decades = decades(list_dates)"
   ]
  },
  {
   "cell_type": "code",
   "execution_count": 13,
   "metadata": {},
   "outputs": [],
   "source": [
    "zipped = list(zip(list_decades, list_nb_romans_decades))"
   ]
  },
  {
   "cell_type": "code",
   "execution_count": 14,
   "metadata": {},
   "outputs": [],
   "source": [
    "df_decades_repartition = pd.DataFrame(zipped, columns=[\"decades\", \"nb_romans\"])"
   ]
  },
  {
   "cell_type": "code",
   "execution_count": 22,
   "metadata": {},
   "outputs": [
    {
     "data": {
      "image/png": "[encoded data removed]",
      "text/plain": [
       "<Figure size 864x504 with 1 Axes>"
      ]
     },
     "metadata": {},
     "output_type": "display_data"
    }
   ],
   "source": [
    "sns.set_style('darkgrid')\n",
    "plt.figure(figsize=(12,7))\n",
    "sns.barplot(data=df_decades_repartition, x='decades', y='nb_romans', color='b')\n",
    "\n",
    "#plt.title('Distribution of the number of novels over time', fontsize=20)\n",
    "plt.xlabel('Decades', fontsize=20)\n",
    "plt.ylabel('Number of novels', fontsize=20)\n",
    "plt.xticks(rotation=60)\n",
    "\n",
    "plt.show()"
   ]
  },
  {
   "cell_type": "code",
   "execution_count": null,
   "metadata": {},
   "outputs": [],
   "source": [
    "nb_romans"
   ]
  },
  {
   "cell_type": "code",
   "execution_count": null,
   "metadata": {},
   "outputs": [],
   "source": []
  },
  {
   "cell_type": "code",
   "execution_count": null,
   "metadata": {},
   "outputs": [],
   "source": []
  },
  {
   "cell_type": "code",
   "execution_count": 27,
   "metadata": {},
   "outputs": [],
   "source": [
    "list_gender = df_corpus['gender']"
   ]
  },
  {
   "cell_type": "code",
   "execution_count": 40,
   "metadata": {},
   "outputs": [],
   "source": [
    "def gender_decades(list_dates, list_gender):\n",
    "    list_decades, list_nbmale_decades,  list_nbfemale_decades, list_decades_vues, list_female_pourcentage = [], [], [], [], []\n",
    "    conteur_male, conteur_female, i = 0, 0, 0\n",
    "    for i in range(len(list_dates)):\n",
    "        if list_dates[i] % 5 == 0 and list_dates[i] != 1811 and list_dates[i] not in list_decades_vues:#10==1\n",
    "            list_decades.append(list_dates[i]-1)\n",
    "            list_nbmale_decades.append(conteur_male)\n",
    "            list_nbfemale_decades.append(conteur_female)\n",
    "            list_decades_vues.append(list_dates[i])\n",
    "            list_female_pourcentage.append(100*conteur_female/(conteur_female + conteur_male))\n",
    "            conteur_female = 0\n",
    "            conteur_male = 0\n",
    "\n",
    "            \n",
    "        if list_gender[i] == 'female':\n",
    "            conteur_female+=1\n",
    "        else:\n",
    "            conteur_male+=1\n",
    "            \n",
    "        \n",
    "    return list_decades, list_nbmale_decades,  list_nbfemale_decades, list_female_pourcentage"
   ]
  },
  {
   "cell_type": "code",
   "execution_count": 41,
   "metadata": {},
   "outputs": [],
   "source": [
    "list_decades, list_nbmale_decades,  list_nbfemale_decades, list_female_pourcentage = gender_decades(list_dates, list_gender)"
   ]
  },
  {
   "cell_type": "code",
   "execution_count": null,
   "metadata": {},
   "outputs": [],
   "source": []
  },
  {
   "cell_type": "code",
   "execution_count": 42,
   "metadata": {},
   "outputs": [],
   "source": [
    "zipped = list(zip(list_decades, list_female_pourcentage))"
   ]
  },
  {
   "cell_type": "code",
   "execution_count": 43,
   "metadata": {},
   "outputs": [],
   "source": [
    "df_gender_repartition = pd.DataFrame(zipped, columns=[\"decades\", \"female_rate\"])"
   ]
  },
  {
   "cell_type": "code",
   "execution_count": null,
   "metadata": {},
   "outputs": [],
   "source": []
  },
  {
   "cell_type": "code",
   "execution_count": 54,
   "metadata": {},
   "outputs": [
    {
     "data": {
      "image/png": "[encoded data removed]",
      "text/plain": [
       "<Figure size 864x504 with 1 Axes>"
      ]
     },
     "metadata": {},
     "output_type": "display_data"
    }
   ],
   "source": [
    "sns.set_style('darkgrid')\n",
    "sns.set_palette('bright')\n",
    "plt.figure(figsize=(12,7))\n",
    "sns.regplot(data=df_gender_repartition, x='decades', y='female_rate')\n",
    "\n",
    "plt.title('Fraction of fiction books written by women')\n",
    "plt.xlabel('Years')\n",
    "plt.ylabel('Percentage')\n",
    "plt.xticks(rotation=60)\n",
    "\n",
    "plt.show()"
   ]
  },
  {
   "cell_type": "markdown",
   "metadata": {},
   "source": [
    "### Corpus Fictions Littéraires "
   ]
  },
  {
   "cell_type": "code",
   "execution_count": null,
   "metadata": {},
   "outputs": [],
   "source": []
  },
  {
   "cell_type": "code",
   "execution_count": null,
   "metadata": {},
   "outputs": [],
   "source": []
  },
  {
   "cell_type": "markdown",
   "metadata": {},
   "source": [
    "### Description of women, as a percentage of characterization in fiction"
   ]
  },
  {
   "cell_type": "code",
   "execution_count": null,
   "metadata": {},
   "outputs": [],
   "source": []
  }
 ],
 "metadata": {
  "kernelspec": {
   "display_name": "Python 3 (ipykernel)",
   "language": "python",
   "name": "python3"
  },
  "language_info": {
   "codemirror_mode": {
    "name": "ipython",
    "version": 3
   },
   "file_extension": ".py",
   "mimetype": "text/x-python",
   "name": "python",
   "nbconvert_exporter": "python",
   "pygments_lexer": "ipython3",
   "version": "3.9.12"
  }
 },
 "nbformat": 4,
 "nbformat_minor": 4
}
