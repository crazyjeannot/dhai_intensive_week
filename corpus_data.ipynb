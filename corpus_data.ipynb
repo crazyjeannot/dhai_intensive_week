{
 "cells": [
  {
   "cell_type": "code",
   "execution_count": 30,
   "metadata": {},
   "outputs": [],
   "source": [
    "import re\n",
    "import pandas as pd\n",
    "from os import path\n",
    "from collections import Counter\n",
    "from glob import glob\n",
    "from lxml import etree\n",
    "from tqdm import tqdm"
   ]
  },
  {
   "cell_type": "code",
   "execution_count": 31,
   "metadata": {},
   "outputs": [],
   "source": [
    "def canon(path_corpus):\n",
    "    with open(path_corpus, encoding=\"utf8\") as file:\n",
    "        tree = etree.parse(file)\n",
    "        if tree.find(\".//profileDesc\") is not None:\n",
    "            profil = tree.find(\".//profileDesc\")\n",
    "            if profil.get(\"tag\") == \"canon\":\n",
    "                return True\n",
    "            else:\n",
    "                return False"
   ]
  },
  {
   "cell_type": "code",
   "execution_count": 32,
   "metadata": {},
   "outputs": [],
   "source": [
    "def gender(path_corpus):\n",
    "    with open(path_corpus, encoding=\"utf8\") as file:\n",
    "        tree = etree.parse(file)\n",
    "        if tree.find(\".//author\") is not None:\n",
    "            profil = tree.find(\".//author\")\n",
    "            return profil.get(\"sex\")         "
   ]
  },
  {
   "cell_type": "code",
   "execution_count": 33,
   "metadata": {},
   "outputs": [],
   "source": [
    "def date_death_author(path_corpus):\n",
    "    with open(path_corpus, encoding=\"utf8\") as file:\n",
    "        tree = etree.parse(file)\n",
    "        if tree.find(\".//author\") is not None:\n",
    "            profil = tree.find(\".//author\")\n",
    "            return profil.get(\"to\") "
   ]
  },
  {
   "cell_type": "code",
   "execution_count": 34,
   "metadata": {},
   "outputs": [],
   "source": [
    "def moulinette(path_name):\n",
    "    \n",
    "    df_corpus = pd.DataFrame([], columns=[\"doc_name\", \"date\", \"auteur\", \"titre\", \"canon\", \"gender\"])\n",
    "    \n",
    "    for doc in tqdm(glob(path_name)):\n",
    "        \n",
    "        doc_name = path.splitext(path.basename(doc))[0]\n",
    "        #print(doc_name)\n",
    "        date = doc_name.split(\"_\")[0]\n",
    "        auteur = doc_name.split(\"_\")[1]\n",
    "        titre = doc_name.split(\"_\")[2].split('FC')[0] # weird title metadata (corpus)\n",
    "        tag = canon(doc)\n",
    "        tag_gender = gender(doc)\n",
    "        death_author = date_death_author(doc)\n",
    "        \n",
    "        df_roman = pd.DataFrame([(doc_name, date, auteur, titre, tag, tag_gender, death_author)], columns=[\"doc_name\", \"date\", \"auteur\", \"titre\", \"canon\", \"gender\", 'mort_auteur'])\n",
    "        df_corpus = pd.concat([df_corpus, df_roman])\n",
    "    return df_corpus"
   ]
  },
  {
   "cell_type": "code",
   "execution_count": 35,
   "metadata": {},
   "outputs": [],
   "source": [
    "path_name = r'../../../master/M2/master_thesis/corpus_chapitres/*.xml'"
   ]
  },
  {
   "cell_type": "code",
   "execution_count": 36,
   "metadata": {},
   "outputs": [
    {
     "name": "stderr",
     "output_type": "stream",
     "text": [
      "100%|███████████████████████████████████████| 2960/2960 [00:34<00:00, 86.20it/s]\n"
     ]
    }
   ],
   "source": [
    "df_corpus = moulinette(path_name)"
   ]
  },
  {
   "cell_type": "code",
   "execution_count": 18,
   "metadata": {},
   "outputs": [
    {
     "data": {
      "text/html": [
       "<div>\n",
       "<style scoped>\n",
       "    .dataframe tbody tr th:only-of-type {\n",
       "        vertical-align: middle;\n",
       "    }\n",
       "\n",
       "    .dataframe tbody tr th {\n",
       "        vertical-align: top;\n",
       "    }\n",
       "\n",
       "    .dataframe thead th {\n",
       "        text-align: right;\n",
       "    }\n",
       "</style>\n",
       "<table border=\"1\" class=\"dataframe\">\n",
       "  <thead>\n",
       "    <tr style=\"text-align: right;\">\n",
       "      <th></th>\n",
       "      <th>doc_name</th>\n",
       "      <th>date</th>\n",
       "      <th>auteur</th>\n",
       "      <th>titre</th>\n",
       "      <th>canon</th>\n",
       "      <th>gender</th>\n",
       "      <th>mort_auteur</th>\n",
       "    </tr>\n",
       "  </thead>\n",
       "  <tbody>\n",
       "    <tr>\n",
       "      <th>0</th>\n",
       "      <td>1861_Segur-comtesse-de_Pauvre-Blaise</td>\n",
       "      <td>1861</td>\n",
       "      <td>Segur-comtesse-de</td>\n",
       "      <td>Pauvre-Blaise</td>\n",
       "      <td>False</td>\n",
       "      <td>female</td>\n",
       "      <td>1874</td>\n",
       "    </tr>\n",
       "    <tr>\n",
       "      <th>0</th>\n",
       "      <td>1845_Sand-George_Teverino</td>\n",
       "      <td>1845</td>\n",
       "      <td>Sand-George</td>\n",
       "      <td>Teverino</td>\n",
       "      <td>True</td>\n",
       "      <td>female</td>\n",
       "      <td>1876</td>\n",
       "    </tr>\n",
       "    <tr>\n",
       "      <th>0</th>\n",
       "      <td>1892_Allais-Alphonse_Vive-la-vie</td>\n",
       "      <td>1892</td>\n",
       "      <td>Allais-Alphonse</td>\n",
       "      <td>Vive-la-vie</td>\n",
       "      <td>False</td>\n",
       "      <td>male</td>\n",
       "      <td>1905</td>\n",
       "    </tr>\n",
       "    <tr>\n",
       "      <th>0</th>\n",
       "      <td>1997_Bergounioux-Pierre_La-ligne</td>\n",
       "      <td>1997</td>\n",
       "      <td>Bergounioux-Pierre</td>\n",
       "      <td>La-ligne</td>\n",
       "      <td>True</td>\n",
       "      <td>male</td>\n",
       "      <td>20--</td>\n",
       "    </tr>\n",
       "    <tr>\n",
       "      <th>0</th>\n",
       "      <td>1894_Rachilde_Le-Demon-de-l-Absurde</td>\n",
       "      <td>1894</td>\n",
       "      <td>Rachilde</td>\n",
       "      <td>Le-Demon-de-l-Absurde</td>\n",
       "      <td>False</td>\n",
       "      <td>female</td>\n",
       "      <td>1953</td>\n",
       "    </tr>\n",
       "    <tr>\n",
       "      <th>...</th>\n",
       "      <td>...</td>\n",
       "      <td>...</td>\n",
       "      <td>...</td>\n",
       "      <td>...</td>\n",
       "      <td>...</td>\n",
       "      <td>...</td>\n",
       "      <td>...</td>\n",
       "    </tr>\n",
       "    <tr>\n",
       "      <th>0</th>\n",
       "      <td>1960_Simenon-Georges_Maigret-et-les-vieillards</td>\n",
       "      <td>1960</td>\n",
       "      <td>Simenon-Georges</td>\n",
       "      <td>Maigret-et-les-vieillards</td>\n",
       "      <td>True</td>\n",
       "      <td>male</td>\n",
       "      <td>1989</td>\n",
       "    </tr>\n",
       "    <tr>\n",
       "      <th>0</th>\n",
       "      <td>1910_Zevaco-Michel_Triboulet</td>\n",
       "      <td>1910</td>\n",
       "      <td>Zevaco-Michel</td>\n",
       "      <td>Triboulet</td>\n",
       "      <td>False</td>\n",
       "      <td>male</td>\n",
       "      <td>1918</td>\n",
       "    </tr>\n",
       "    <tr>\n",
       "      <th>0</th>\n",
       "      <td>1880_Gouraud-Julie_Aller-et-retour</td>\n",
       "      <td>1880</td>\n",
       "      <td>Gouraud-Julie</td>\n",
       "      <td>Aller-et-retour</td>\n",
       "      <td>False</td>\n",
       "      <td>female</td>\n",
       "      <td>1891</td>\n",
       "    </tr>\n",
       "    <tr>\n",
       "      <th>0</th>\n",
       "      <td>1956_Sagan-Françoise_Un-certain-sourire</td>\n",
       "      <td>1956</td>\n",
       "      <td>Sagan-Françoise</td>\n",
       "      <td>Un-certain-sourire</td>\n",
       "      <td>False</td>\n",
       "      <td>female</td>\n",
       "      <td>2004</td>\n",
       "    </tr>\n",
       "    <tr>\n",
       "      <th>0</th>\n",
       "      <td>1845_Sue-Eugene_La-coucaratcha_Tome-II</td>\n",
       "      <td>1845</td>\n",
       "      <td>Sue-Eugene</td>\n",
       "      <td>La-coucaratcha</td>\n",
       "      <td>True</td>\n",
       "      <td>male</td>\n",
       "      <td>1857</td>\n",
       "    </tr>\n",
       "  </tbody>\n",
       "</table>\n",
       "<p>2960 rows × 7 columns</p>\n",
       "</div>"
      ],
      "text/plain": [
       "                                          doc_name  date              auteur  \\\n",
       "0             1861_Segur-comtesse-de_Pauvre-Blaise  1861   Segur-comtesse-de   \n",
       "0                        1845_Sand-George_Teverino  1845         Sand-George   \n",
       "0                 1892_Allais-Alphonse_Vive-la-vie  1892     Allais-Alphonse   \n",
       "0                 1997_Bergounioux-Pierre_La-ligne  1997  Bergounioux-Pierre   \n",
       "0              1894_Rachilde_Le-Demon-de-l-Absurde  1894            Rachilde   \n",
       "..                                             ...   ...                 ...   \n",
       "0   1960_Simenon-Georges_Maigret-et-les-vieillards  1960     Simenon-Georges   \n",
       "0                     1910_Zevaco-Michel_Triboulet  1910       Zevaco-Michel   \n",
       "0               1880_Gouraud-Julie_Aller-et-retour  1880       Gouraud-Julie   \n",
       "0          1956_Sagan-Françoise_Un-certain-sourire  1956     Sagan-Françoise   \n",
       "0           1845_Sue-Eugene_La-coucaratcha_Tome-II  1845          Sue-Eugene   \n",
       "\n",
       "                        titre  canon  gender mort_auteur  \n",
       "0               Pauvre-Blaise  False  female        1874  \n",
       "0                    Teverino   True  female        1876  \n",
       "0                 Vive-la-vie  False    male        1905  \n",
       "0                    La-ligne   True    male        20--  \n",
       "0       Le-Demon-de-l-Absurde  False  female        1953  \n",
       "..                        ...    ...     ...         ...  \n",
       "0   Maigret-et-les-vieillards   True    male        1989  \n",
       "0                   Triboulet  False    male        1918  \n",
       "0             Aller-et-retour  False  female        1891  \n",
       "0          Un-certain-sourire  False  female        2004  \n",
       "0              La-coucaratcha   True    male        1857  \n",
       "\n",
       "[2960 rows x 7 columns]"
      ]
     },
     "execution_count": 18,
     "metadata": {},
     "output_type": "execute_result"
    }
   ],
   "source": [
    "df_corpus"
   ]
  },
  {
   "cell_type": "code",
   "execution_count": 19,
   "metadata": {},
   "outputs": [
    {
     "data": {
      "text/plain": [
       "male      0.782432\n",
       "female    0.211486\n",
       "          0.006081\n",
       "Name: gender, dtype: float64"
      ]
     },
     "execution_count": 19,
     "metadata": {},
     "output_type": "execute_result"
    }
   ],
   "source": [
    "df_corpus.gender.value_counts(normalize=True)"
   ]
  },
  {
   "cell_type": "code",
   "execution_count": 20,
   "metadata": {},
   "outputs": [],
   "source": [
    "def net_auteur(liste_auteur):\n",
    "    liste_result = []\n",
    "    for auteur in liste_auteur:\n",
    "        string_result = \" \"\n",
    "        auteur_net = re.sub(\"-\", \" \", auteur)\n",
    "        auteur_net_list = auteur_net.split(\" \")\n",
    "        auteur_new_order_list = auteur_net_list[-(len(auteur_net_list)-1):] + auteur_net_list[:-(len(auteur_net_list)-1)] \n",
    "        liste_result.append(string_result.join(auteur_new_order_list).lower()) \n",
    "    return liste_result"
   ]
  },
  {
   "cell_type": "code",
   "execution_count": 21,
   "metadata": {},
   "outputs": [],
   "source": [
    "liste_auteur = net_auteur(list(df_corpus[\"auteur\"]))"
   ]
  },
  {
   "cell_type": "code",
   "execution_count": null,
   "metadata": {},
   "outputs": [],
   "source": []
  },
  {
   "cell_type": "code",
   "execution_count": 22,
   "metadata": {},
   "outputs": [],
   "source": [
    "\n",
    "def net_title(liste_titre):\n",
    "    liste_result = []\n",
    "    for titre in liste_titre:\n",
    "        temp = re.sub(\"-\", \" \", titre)\n",
    "        liste_result.append(temp.lower()) \n",
    "    return liste_result"
   ]
  },
  {
   "cell_type": "code",
   "execution_count": 23,
   "metadata": {},
   "outputs": [],
   "source": [
    "liste_titre = net_title(list(df_corpus[\"titre\"]))"
   ]
  },
  {
   "cell_type": "code",
   "execution_count": null,
   "metadata": {},
   "outputs": [],
   "source": []
  },
  {
   "cell_type": "code",
   "execution_count": 24,
   "metadata": {},
   "outputs": [],
   "source": [
    "df_corpus[\"auteur\"] = liste_auteur"
   ]
  },
  {
   "cell_type": "code",
   "execution_count": 25,
   "metadata": {},
   "outputs": [],
   "source": [
    "df_corpus[\"titre\"] = liste_titre"
   ]
  },
  {
   "cell_type": "code",
   "execution_count": 26,
   "metadata": {},
   "outputs": [],
   "source": [
    "df_corpus.rename(columns = {'canon':'fabula'}, inplace = True)"
   ]
  },
  {
   "cell_type": "code",
   "execution_count": 27,
   "metadata": {},
   "outputs": [],
   "source": [
    "df_corpus['canon'] = ['canon' if elem == True else 'non-canon' for elem in df_corpus[\"fabula\"]]"
   ]
  },
  {
   "cell_type": "code",
   "execution_count": 28,
   "metadata": {},
   "outputs": [],
   "source": [
    "df_corpus = df_corpus.sort_values(by='date')"
   ]
  },
  {
   "cell_type": "code",
   "execution_count": 29,
   "metadata": {},
   "outputs": [],
   "source": [
    "df_corpus.to_csv(r'metadata/corpus_gendered.csv', index = False, header=True)"
   ]
  },
  {
   "cell_type": "markdown",
   "metadata": {},
   "source": [
    "### Gender disparities in our corpora"
   ]
  },
  {
   "cell_type": "code",
   "execution_count": 31,
   "metadata": {},
   "outputs": [],
   "source": [
    "import seaborn as sns"
   ]
  },
  {
   "cell_type": "code",
   "execution_count": 32,
   "metadata": {},
   "outputs": [],
   "source": [
    "df_corpus_gendered = df_corpus[(df_corpus['gender']== 'male')|(df_corpus['gender']== 'female')]"
   ]
  },
  {
   "cell_type": "code",
   "execution_count": 33,
   "metadata": {},
   "outputs": [
    {
     "data": {
      "text/plain": [
       "<AxesSubplot:xlabel='gender', ylabel='count'>"
      ]
     },
     "execution_count": 33,
     "metadata": {},
     "output_type": "execute_result"
    },
    {
     "data": {
      "image/png": "[encoded data removed]",
      "text/plain": [
       "<Figure size 432x288 with 1 Axes>"
      ]
     },
     "metadata": {
      "needs_background": "light"
     },
     "output_type": "display_data"
    }
   ],
   "source": [
    "sns.countplot(data=df_corpus_gendered, x=\"gender\")"
   ]
  },
  {
   "cell_type": "code",
   "execution_count": 34,
   "metadata": {},
   "outputs": [
    {
     "data": {
      "text/plain": [
       "<AxesSubplot:xlabel='gender', ylabel='count'>"
      ]
     },
     "execution_count": 34,
     "metadata": {},
     "output_type": "execute_result"
    },
    {
     "data": {
      "image/png": "[encoded data removed]",
      "text/plain": [
       "<Figure size 432x288 with 1 Axes>"
      ]
     },
     "metadata": {
      "needs_background": "light"
     },
     "output_type": "display_data"
    }
   ],
   "source": [
    "sns.countplot(data=df_corpus_gendered, x=\"gender\", hue=\"canon\")"
   ]
  },
  {
   "cell_type": "code",
   "execution_count": null,
   "metadata": {},
   "outputs": [],
   "source": []
  },
  {
   "cell_type": "code",
   "execution_count": 26,
   "metadata": {},
   "outputs": [],
   "source": [
    "pb = df_corpus[(df_corpus['gender']== '')|(df_corpus['gender']== 'unknown')|(df_corpus['gender']== '?')]"
   ]
  },
  {
   "cell_type": "code",
   "execution_count": 27,
   "metadata": {},
   "outputs": [],
   "source": [
    "pb.to_csv(r'../meta_data/unknown.csv', index = False, header=True)"
   ]
  },
  {
   "cell_type": "code",
   "execution_count": null,
   "metadata": {},
   "outputs": [],
   "source": []
  },
  {
   "cell_type": "code",
   "execution_count": null,
   "metadata": {},
   "outputs": [],
   "source": []
  },
  {
   "cell_type": "code",
   "execution_count": null,
   "metadata": {},
   "outputs": [],
   "source": []
  },
  {
   "cell_type": "code",
   "execution_count": null,
   "metadata": {},
   "outputs": [],
   "source": []
  },
  {
   "cell_type": "markdown",
   "metadata": {},
   "source": [
    "### For AUDE LEBLOND"
   ]
  },
  {
   "cell_type": "markdown",
   "metadata": {},
   "source": [
    "### get annee de mort de l auteur."
   ]
  },
  {
   "cell_type": "code",
   "execution_count": 29,
   "metadata": {},
   "outputs": [
    {
     "data": {
      "text/html": [
       "<div>\n",
       "<style scoped>\n",
       "    .dataframe tbody tr th:only-of-type {\n",
       "        vertical-align: middle;\n",
       "    }\n",
       "\n",
       "    .dataframe tbody tr th {\n",
       "        vertical-align: top;\n",
       "    }\n",
       "\n",
       "    .dataframe thead th {\n",
       "        text-align: right;\n",
       "    }\n",
       "</style>\n",
       "<table border=\"1\" class=\"dataframe\">\n",
       "  <thead>\n",
       "    <tr style=\"text-align: right;\">\n",
       "      <th></th>\n",
       "      <th>doc_name</th>\n",
       "      <th>date</th>\n",
       "      <th>auteur</th>\n",
       "      <th>titre</th>\n",
       "      <th>canon</th>\n",
       "      <th>gender</th>\n",
       "      <th>mort_auteur</th>\n",
       "    </tr>\n",
       "  </thead>\n",
       "  <tbody>\n",
       "    <tr>\n",
       "      <th>0</th>\n",
       "      <td>1861_Segur-comtesse-de_Pauvre-Blaise</td>\n",
       "      <td>1861</td>\n",
       "      <td>Segur-comtesse-de</td>\n",
       "      <td>Pauvre-Blaise</td>\n",
       "      <td>False</td>\n",
       "      <td>female</td>\n",
       "      <td>1874</td>\n",
       "    </tr>\n",
       "    <tr>\n",
       "      <th>0</th>\n",
       "      <td>1845_Sand-George_Teverino</td>\n",
       "      <td>1845</td>\n",
       "      <td>Sand-George</td>\n",
       "      <td>Teverino</td>\n",
       "      <td>True</td>\n",
       "      <td>female</td>\n",
       "      <td>1876</td>\n",
       "    </tr>\n",
       "    <tr>\n",
       "      <th>0</th>\n",
       "      <td>1892_Allais-Alphonse_Vive-la-vie</td>\n",
       "      <td>1892</td>\n",
       "      <td>Allais-Alphonse</td>\n",
       "      <td>Vive-la-vie</td>\n",
       "      <td>False</td>\n",
       "      <td>male</td>\n",
       "      <td>1905</td>\n",
       "    </tr>\n",
       "    <tr>\n",
       "      <th>0</th>\n",
       "      <td>1997_Bergounioux-Pierre_La-ligne</td>\n",
       "      <td>1997</td>\n",
       "      <td>Bergounioux-Pierre</td>\n",
       "      <td>La-ligne</td>\n",
       "      <td>True</td>\n",
       "      <td>male</td>\n",
       "      <td>20--</td>\n",
       "    </tr>\n",
       "    <tr>\n",
       "      <th>0</th>\n",
       "      <td>1894_Rachilde_Le-Demon-de-l-Absurde</td>\n",
       "      <td>1894</td>\n",
       "      <td>Rachilde</td>\n",
       "      <td>Le-Demon-de-l-Absurde</td>\n",
       "      <td>False</td>\n",
       "      <td>female</td>\n",
       "      <td>1953</td>\n",
       "    </tr>\n",
       "    <tr>\n",
       "      <th>...</th>\n",
       "      <td>...</td>\n",
       "      <td>...</td>\n",
       "      <td>...</td>\n",
       "      <td>...</td>\n",
       "      <td>...</td>\n",
       "      <td>...</td>\n",
       "      <td>...</td>\n",
       "    </tr>\n",
       "    <tr>\n",
       "      <th>0</th>\n",
       "      <td>1960_Simenon-Georges_Maigret-et-les-vieillards</td>\n",
       "      <td>1960</td>\n",
       "      <td>Simenon-Georges</td>\n",
       "      <td>Maigret-et-les-vieillards</td>\n",
       "      <td>True</td>\n",
       "      <td>male</td>\n",
       "      <td>1989</td>\n",
       "    </tr>\n",
       "    <tr>\n",
       "      <th>0</th>\n",
       "      <td>1910_Zevaco-Michel_Triboulet</td>\n",
       "      <td>1910</td>\n",
       "      <td>Zevaco-Michel</td>\n",
       "      <td>Triboulet</td>\n",
       "      <td>False</td>\n",
       "      <td>male</td>\n",
       "      <td>1918</td>\n",
       "    </tr>\n",
       "    <tr>\n",
       "      <th>0</th>\n",
       "      <td>1880_Gouraud-Julie_Aller-et-retour</td>\n",
       "      <td>1880</td>\n",
       "      <td>Gouraud-Julie</td>\n",
       "      <td>Aller-et-retour</td>\n",
       "      <td>False</td>\n",
       "      <td>female</td>\n",
       "      <td>1891</td>\n",
       "    </tr>\n",
       "    <tr>\n",
       "      <th>0</th>\n",
       "      <td>1956_Sagan-Françoise_Un-certain-sourire</td>\n",
       "      <td>1956</td>\n",
       "      <td>Sagan-Françoise</td>\n",
       "      <td>Un-certain-sourire</td>\n",
       "      <td>False</td>\n",
       "      <td>female</td>\n",
       "      <td>2004</td>\n",
       "    </tr>\n",
       "    <tr>\n",
       "      <th>0</th>\n",
       "      <td>1845_Sue-Eugene_La-coucaratcha_Tome-II</td>\n",
       "      <td>1845</td>\n",
       "      <td>Sue-Eugene</td>\n",
       "      <td>La-coucaratcha</td>\n",
       "      <td>True</td>\n",
       "      <td>male</td>\n",
       "      <td>1857</td>\n",
       "    </tr>\n",
       "  </tbody>\n",
       "</table>\n",
       "<p>2960 rows × 7 columns</p>\n",
       "</div>"
      ],
      "text/plain": [
       "                                          doc_name  date              auteur  \\\n",
       "0             1861_Segur-comtesse-de_Pauvre-Blaise  1861   Segur-comtesse-de   \n",
       "0                        1845_Sand-George_Teverino  1845         Sand-George   \n",
       "0                 1892_Allais-Alphonse_Vive-la-vie  1892     Allais-Alphonse   \n",
       "0                 1997_Bergounioux-Pierre_La-ligne  1997  Bergounioux-Pierre   \n",
       "0              1894_Rachilde_Le-Demon-de-l-Absurde  1894            Rachilde   \n",
       "..                                             ...   ...                 ...   \n",
       "0   1960_Simenon-Georges_Maigret-et-les-vieillards  1960     Simenon-Georges   \n",
       "0                     1910_Zevaco-Michel_Triboulet  1910       Zevaco-Michel   \n",
       "0               1880_Gouraud-Julie_Aller-et-retour  1880       Gouraud-Julie   \n",
       "0          1956_Sagan-Françoise_Un-certain-sourire  1956     Sagan-Françoise   \n",
       "0           1845_Sue-Eugene_La-coucaratcha_Tome-II  1845          Sue-Eugene   \n",
       "\n",
       "                        titre  canon  gender mort_auteur  \n",
       "0               Pauvre-Blaise  False  female        1874  \n",
       "0                    Teverino   True  female        1876  \n",
       "0                 Vive-la-vie  False    male        1905  \n",
       "0                    La-ligne   True    male        20--  \n",
       "0       Le-Demon-de-l-Absurde  False  female        1953  \n",
       "..                        ...    ...     ...         ...  \n",
       "0   Maigret-et-les-vieillards   True    male        1989  \n",
       "0                   Triboulet  False    male        1918  \n",
       "0             Aller-et-retour  False  female        1891  \n",
       "0          Un-certain-sourire  False  female        2004  \n",
       "0              La-coucaratcha   True    male        1857  \n",
       "\n",
       "[2960 rows x 7 columns]"
      ]
     },
     "execution_count": 29,
     "metadata": {},
     "output_type": "execute_result"
    }
   ],
   "source": [
    "df_corpus"
   ]
  },
  {
   "cell_type": "code",
   "execution_count": 34,
   "metadata": {},
   "outputs": [],
   "source": [
    "import re"
   ]
  },
  {
   "cell_type": "code",
   "execution_count": 46,
   "metadata": {},
   "outputs": [],
   "source": [
    "def get_no_date(list_date):\n",
    "    not_date = []\n",
    "    for e in list_date:\n",
    "        if not (re.match('[0-9]{4}',e)):\n",
    "            not_date.append(e)\n",
    "\n",
    "    return set(not_date)"
   ]
  },
  {
   "cell_type": "code",
   "execution_count": 47,
   "metadata": {},
   "outputs": [],
   "source": [
    "set_no_date = get_no_date(df_corpus.mort_auteur)"
   ]
  },
  {
   "cell_type": "code",
   "execution_count": null,
   "metadata": {},
   "outputs": [],
   "source": []
  },
  {
   "cell_type": "code",
   "execution_count": 55,
   "metadata": {},
   "outputs": [],
   "source": [
    "corpus_ko = df_corpus[df_corpus['mort_auteur'].isin(set_no_date)]"
   ]
  },
  {
   "cell_type": "code",
   "execution_count": 91,
   "metadata": {},
   "outputs": [],
   "source": [
    "corpus_ko = corpus_ko.sort_values(by='date')"
   ]
  },
  {
   "cell_type": "code",
   "execution_count": 92,
   "metadata": {},
   "outputs": [],
   "source": [
    "corpus_ko.to_csv(r'corpus_KO.csv', index = False, header=True)"
   ]
  },
  {
   "cell_type": "code",
   "execution_count": 105,
   "metadata": {},
   "outputs": [
    {
     "data": {
      "text/plain": [
       "505"
      ]
     },
     "execution_count": 105,
     "metadata": {},
     "output_type": "execute_result"
    }
   ],
   "source": [
    "len(corpus_ko)"
   ]
  },
  {
   "cell_type": "code",
   "execution_count": null,
   "metadata": {},
   "outputs": [],
   "source": []
  },
  {
   "cell_type": "code",
   "execution_count": 52,
   "metadata": {},
   "outputs": [],
   "source": [
    "corpus_ok = df_corpus[~df_corpus['mort_auteur'].isin(set_no_date)]"
   ]
  },
  {
   "cell_type": "code",
   "execution_count": 60,
   "metadata": {},
   "outputs": [],
   "source": [
    "list_date_int = [int(elem) for elem in corpus_ok['mort_auteur']]"
   ]
  },
  {
   "cell_type": "code",
   "execution_count": 61,
   "metadata": {},
   "outputs": [
    {
     "name": "stderr",
     "output_type": "stream",
     "text": [
      "/tmp/ipykernel_100042/2770118539.py:1: SettingWithCopyWarning: \n",
      "A value is trying to be set on a copy of a slice from a DataFrame.\n",
      "Try using .loc[row_indexer,col_indexer] = value instead\n",
      "\n",
      "See the caveats in the documentation: https://pandas.pydata.org/pandas-docs/stable/user_guide/indexing.html#returning-a-view-versus-a-copy\n",
      "  corpus_ok['mort_auteur'] = list_date_int\n"
     ]
    }
   ],
   "source": [
    "corpus_ok['mort_auteur'] = list_date_int"
   ]
  },
  {
   "cell_type": "code",
   "execution_count": null,
   "metadata": {},
   "outputs": [],
   "source": []
  },
  {
   "cell_type": "code",
   "execution_count": 87,
   "metadata": {},
   "outputs": [],
   "source": [
    "corpus_ferme = corpus_ok[corpus_ok['mort_auteur'] > 1952]"
   ]
  },
  {
   "cell_type": "code",
   "execution_count": 93,
   "metadata": {},
   "outputs": [],
   "source": [
    "corpus_ferme = corpus_ferme.sort_values(by='date')"
   ]
  },
  {
   "cell_type": "code",
   "execution_count": 94,
   "metadata": {},
   "outputs": [],
   "source": [
    "corpus_ferme.to_csv(r'corpus_OK_sous_droit.csv', index = False, header=True)"
   ]
  },
  {
   "cell_type": "code",
   "execution_count": 106,
   "metadata": {},
   "outputs": [
    {
     "data": {
      "text/plain": [
       "527"
      ]
     },
     "execution_count": 106,
     "metadata": {},
     "output_type": "execute_result"
    }
   ],
   "source": [
    "len(corpus_ferme)"
   ]
  },
  {
   "cell_type": "code",
   "execution_count": null,
   "metadata": {},
   "outputs": [],
   "source": []
  },
  {
   "cell_type": "code",
   "execution_count": 62,
   "metadata": {},
   "outputs": [],
   "source": [
    "corpus_ouvert = corpus_ok[corpus_ok['mort_auteur'] <= 1952]"
   ]
  },
  {
   "cell_type": "code",
   "execution_count": 95,
   "metadata": {},
   "outputs": [],
   "source": [
    "corpus_ouvert = corpus_ouvert.sort_values(by='date')"
   ]
  },
  {
   "cell_type": "code",
   "execution_count": 96,
   "metadata": {},
   "outputs": [],
   "source": [
    "corpus_ouvert.to_csv(r'corpus_OK_libre.csv', index = False, header=True)"
   ]
  },
  {
   "cell_type": "code",
   "execution_count": 104,
   "metadata": {},
   "outputs": [
    {
     "data": {
      "text/plain": [
       "1928"
      ]
     },
     "execution_count": 104,
     "metadata": {},
     "output_type": "execute_result"
    }
   ],
   "source": [
    "len(corpus_ouvert)"
   ]
  },
  {
   "cell_type": "code",
   "execution_count": null,
   "metadata": {},
   "outputs": [],
   "source": []
  },
  {
   "cell_type": "code",
   "execution_count": 67,
   "metadata": {},
   "outputs": [],
   "source": [
    "import os\n",
    "import shutil"
   ]
  },
  {
   "cell_type": "code",
   "execution_count": 65,
   "metadata": {},
   "outputs": [
    {
     "data": {
      "text/plain": [
       "'/home/crazyjeannot/Documents/Doctorat/literary_gender_trouble-main'"
      ]
     },
     "execution_count": 65,
     "metadata": {},
     "output_type": "execute_result"
    }
   ],
   "source": [
    "os.getcwd()"
   ]
  },
  {
   "cell_type": "code",
   "execution_count": 68,
   "metadata": {},
   "outputs": [],
   "source": [
    "src_path = r'/home/crazyjeannot/Documents/master/M2/master_thesis/corpus_chapitres/'\n",
    "dst_path = r'/home/crazyjeannot/Documents/Doctorat/corpus_chapitre_libre/'"
   ]
  },
  {
   "cell_type": "code",
   "execution_count": 100,
   "metadata": {},
   "outputs": [],
   "source": [
    "src_path = r'/home/crazyjeannot/Documents/master/M2/master_thesis/corpus_chapitres/'\n",
    "dst_path = r'/home/crazyjeannot/Documents/Doctorat/corpus_chapitres_sous_droit/'"
   ]
  },
  {
   "cell_type": "code",
   "execution_count": null,
   "metadata": {},
   "outputs": [],
   "source": [
    "src_path = r'/home/crazyjeannot/Documents/master/M2/master_thesis/corpus_chapitres/'\n",
    "dst_path = r'/home/crazyjeannot/Documents/Doctorat/corpus_chapitres_date_unknown/'"
   ]
  },
  {
   "cell_type": "code",
   "execution_count": 101,
   "metadata": {},
   "outputs": [],
   "source": [
    "def copy_past_chapitres(src_path, dst_path, corpus_ouvert):\n",
    "    for file_name in os.listdir(src_path):\n",
    "        doc_name = path.splitext(path.basename(file_name))[0]\n",
    "        if doc_name in list(corpus_ouvert.doc_name):\n",
    "            print(doc_name)\n",
    "            source = src_path + file_name\n",
    "            destination = dst_path + file_name\n",
    "            if os.path.isfile(source):\n",
    "                shutil.copy(source, destination)\n",
    "    return"
   ]
  },
  {
   "cell_type": "code",
   "execution_count": 103,
   "metadata": {},
   "outputs": [
    {
     "name": "stdout",
     "output_type": "stream",
     "text": [
      "1997_Bergounioux-Pierre_La-ligne\n",
      "2004_Gavalda-Anna_Ensemble-c-est-tout\n",
      "2008_Rolin-Olivier_Un-chasseur-de-lions\n",
      "2015_Musso-Guillaume_L-instant-present\n",
      "1972_Modiano-Patrick_Les-boulevards-de-ceinture\n",
      "1883_Dupuit-Albert_Pauline-Tardivau-etude-de-la-vie-de-province\n",
      "1992_Nothomb-Amelie_Hygiene-de-l-assassin\n",
      "1861_Rocca-Maria-della_Le-Roman-d-une-femme-laide\n",
      "2001_Vargas-Fred_Pars-vite-et-reviens-tard\n",
      "2016_Murail-Marie-Aude_Sauveur-Fils_2\n",
      "2014_Rolin-Jean_Les-evenements\n",
      "2001_Gaude-Laurent_Cris\n",
      "1882_Lacroix-Auguste_La-Famille-Robert\n",
      "1826_Ginouvier-J-F-T._Gustave-et-Aspais-ou-Les-victimes-des-prejuges-de-l-epoque_tome-1\n",
      "2010_Lemaitre-Pierre_Cadres-Noirs\n",
      "1994_Grange-Jean-Christophe_Le-vol-des-cigognes\n",
      "1997_Ernaux-Annie_La-honte\n",
      "2008_Nothomb-Amelie_Ni-d-Eve-ni-d-Adam\n",
      "1876_Glady-Alberic_Male-et-femelle\n",
      "2006_Bergounioux-Pierre_La-fin-du-monde-en-avançant\n",
      "2013_Toussaint-Jean-Philippe_Nue\n",
      "1861_Villars-Fanny_Marie-et-Marguerite-histoire-du-XIIIe-siecle\n",
      "2014_Mathieu-Nicolas_Aux-animaux-la-guerre\n",
      "2011_Millet-Richard_La-Fiancee-libanaise\n",
      "1847_Inconnu_La-bonne-mere\n",
      "1878_Lemoine_La-Guerre-pendant-les-vacances-recit-d-un-vieux-soldat\n",
      "2014_Musso-Guillaume_Central-park\n",
      "1979_Echenoz-Jean_Le-meridien-de-Greenwich\n",
      "2015_Angot-Christine_Un-amour-impossible\n",
      "1876_Parseval-Deschenes-Gustave-Louis-Ferdinand_Journal-d-une-desoeuvree\n",
      "1862_Leneveux-Louise_Soirees-en-famille--lectures-pour-la-jeunesse\n",
      "1988_Bergounioux-Pierre_L-arbre-sur-la-riviere\n",
      "1991_Vargas-Fred_L-homme-aux-cercles-bleus\n",
      "1908_Dhanys-Marcel_Marcel-Dhanys-Le-Roman-du-grand-Conde\n",
      "1993_Rouaud-Jean_Des-hommes-illustres\n",
      "2008_Quignard-Pascal_Boutes\n",
      "2015_Germain-Sylvie_a-la-table-des-hommes\n",
      "2010_Bergounioux-Pierre_Le-recit-absent-Le-baiser-de-sorciere\n",
      "2014_Kerangal-Maylis-de_Reparer-les-vivants\n",
      "2010_Nothomb-Amelie_Une-forme-de-vie\n",
      "2011_Quignard-Pascal_Les-solidarites-mysterieuses\n",
      "1860_Sauquet-Aricie-Courbatere-Mme_Les-Veillees-du-pensionnat\n",
      "2011_Gaude-Laurent_Les-Oliviers-du-Negus\n",
      "2014_Modiano-Patrick_Pour-que-tu-ne-te-perdes-pas-dans-le-quartier\n",
      "2003_Jouet-Jacques_Mon-bel-autocar\n",
      "2016_Murail-Marie-Aude_Sauveur-Fils_1\n",
      "2000_Quignard-Pascal_Terrasse-a-Rome\n",
      "1984_Djian-Philippe_Zone-erogene\n",
      "2013_Nothomb-Amelie_La-Nostalgie-heureuse\n",
      "2004_Nothomb-Amelie_Biographie-de-la-faim\n",
      "2009_Carrere-Emmanuel_D-autres-vies-que-la-mienne\n",
      "2015_Enard-Mathias_Boussole\n",
      "2015_Quignard-Pascal_Mourir-de-penser\n",
      "2008_Vargas-Fred_Un-lieu-incertain\n",
      "2014_Echenoz-Jean_Caprice-de-la-reine\n",
      "1999_Volodine-Antoine_Des-anges-mineurs\n",
      "2001_Daeninckx-Didier_12-rue-Meckert\n",
      "1999_Nothomb-Amelie_Le-Mystere-par-excellence\n",
      "2009_Rouaud-Jean_La-femme-promise\n",
      "2010_Modiano-Patrick_L-horizon\n",
      "2019_Dabos-Christelle_La-Passe-miroir_4-La-Tempete-des-echos\n",
      "2012_Quignard-Pascal_Les-desarçonnes\n",
      "1991_Germain-Sylvie_L-Enfant-Meduse\n",
      "2009_Michon-Pierre_Les-Onze\n",
      "2010_Kerangal-Maylis-de_Naissance-d-un-pont\n",
      "2013_Ferrier-Michael_Fukushima-Recit-d-un-desastre\n",
      "1878_L-Estoile-Pierre_Un-scandale-en-province--un-mari\n",
      "2009_Viel-Tanguy_Paris-Brest\n",
      "2000_Sollers-Philippe_Passion-Fixe\n",
      "2015_Dabos-Christelle_La-Passe-miroir_2-Les-Disparus-du-Clairdelune\n",
      "1871_Porie-Isa_Le-Roman-d-un-seminariste\n",
      "1993_Rolin-Olivier_L-Invention-du-monde\n",
      "1990_Quignard-Pascal_La-raison\n",
      "1997_Vargas-Fred_Sans-feu-ni-lieu\n",
      "1997_Bergounioux-Pierre_L-empreinte\n",
      "1844_Tarbe-Des-Sablons-Michelle-Catherine-Josephine-Guespereau-Mme-Sebastien-Andre_Onesie-ou-les-Soirees-de-l-abbaye-suivie-de-Enguerrand-ou-le-Duel\n",
      "2010_Echenoz-Jean_Des-eclairs\n",
      "1901_Dhanys-Marcel_Sur-les-marches-du-trone\n",
      "2010_Daeninckx-Didier_Galadio\n",
      "1835_Chaumier-Simeon_La-Taverniere-de-la-cite\n",
      "2008_Ernaux-Annie_Les-annees\n",
      "2000_Millet-Richard_Lauve-le-pur\n",
      "2012_Deville-Patrick_Peste-et-cholera\n",
      "1998_Rouaud-Jean_Pour-vos-cadeaux\n",
      "1857_Quix-E._La-Journee-d-un-philosophe\n",
      "2016_Foenkinos-David_Le-mystere-Henri-Pick\n",
      "1831_Montovar-Mme-Ha-Dges_Aslega\n",
      "1912_Lensia-Jenny_Genie-du-foyer\n",
      "1867_Sauquet-Victor_L-Enfant-des-montagnes\n",
      "2007_Adam-Olivier_A-l-abri-de-rien\n",
      "1878_Chavannes-de-La-Giraudiere-Hippolyte-de_Patrice\n",
      "1997_Ferney-Alice_Grace-et-denuement\n",
      "2007_Bergounioux-Pierre_Les-forges-de-Syam\n",
      "2000_Bouraoui-Nina_Garcon-Manque\n",
      "1855_Roche-L._La-Maison-du-dimanche\n",
      "1981_Villard-Marc_Corvette-de-nuit\n",
      "2006_Lemaitre-Pierre_Travail-Soigne\n",
      "2016_Claudel-Philippe_L-arbre-du-pays-Toraja\n",
      "2014_Louis-Edouard_En-finir-avec-Eddy-Bellegueule\n",
      "1860_Vie-Anduze-Henri_Dernier-amour-de-Cinq-Mars-roman-historique\n",
      "2005_Germain-Sylvie_Magnus\n",
      "2013_Tesson-Sylvain_Dans-les-forets-de-Siberie\n",
      "2006_Jourde-Pierre_L-Heure-et-l-ombre\n",
      "2004_Grimbert-Philippe_Un-secret\n",
      "2010_Gailly-Christian_Lily-et-Braine\n",
      "1883_Du-Vallon-Georges_La-roche-d'enfer\n",
      "2001_Millet-Richard_La-voix-d-alto\n",
      "2003_Ferney-Alice_Dans-la-guerre\n",
      "2000_Claudel-Philippe_J-abandonne\n",
      "1995_Chevillard-Eric_Un-fantome\n",
      "2013_Begaudeau-François_Le-moindre-mal\n",
      "2012_Enard-Mathias_Rue-des-voleurs\n",
      "1982_Le-Clezio-Jean-Marie-Gustave_La-ronde-et-autres-faits-divers\n",
      "2011_Musso-Guillaume_L-appel-de-l-ange\n",
      "2006_Jouet-Jacques_L-amour-comme-on-l-apprend-a-l-Ecole-hoteliere\n",
      "2010_Millet-Richard_Tarnac\n",
      "1990_Modiano-Patrick_Voyage-de-noces\n",
      "1992_Le-Linda_Les-Evangiles-du-crime\n",
      "1873_Sannois-Comtesse-de_Les-Soirees-a-la-maison\n",
      "2017_Lopez-David_Fief\n",
      "2011_Reinhardt-Eric_Le-systeme-Victoria\n",
      "1879_Thuret-Mme-E._La-Guerre-au-chateau\n",
      "1844_Tavard-Eugene_Les-Effets-et-les-causes-histoire-lamentable-echafaudee-sur-une-queue-de-billard\n",
      "1990_Daeninckx-Didier_Le-facteur-fatal\n",
      "2003_Jourde-Pierre_Pays-perdu\n",
      "2012_Adam-Olivier_Les-Lisieres\n",
      "1993_Daeninckx-Didier_Autres-lieux-et-autres-nouvelles\n",
      "1968_Modiano-Patrick_La-Place-de-l-etoile\n",
      "1994_Volodine-Antoine_Le-nom-des-singes\n",
      "2007_Chandernagor-Françoise_La-voyageuse-de-nuit\n",
      "2006_Quignard-Pascal_Villa-Amalia\n",
      "2014_Millet-Catherine_Une-enfance-de-reve\n",
      "2012_Jouet-Jacques_La-seule-fois-de-l-amour\n",
      "1994_Houellebecq-Michel_Extension-du-domaine-de-la-lutte\n",
      "1983_Ernaux-Annie_La-place\n",
      "1998_Dugain-Marc_La-chambre-des-officiers\n",
      "1987_Rolin-Olivier_Bar-des-flots-noirs\n",
      "2007_Musso-Guillaume_Parce-que-je-t-aime\n",
      "2007_Jouet-Jacques_Une-mauvaise-maire\n",
      "2010_Houellebecq-Michel_La-Carte-et-le-territoire\n",
      "1993_Villard-Marc_La-porte-de-derriere\n",
      "1861_Pommier-Armand_La-Benjamine\n",
      "2011_Gaude-Laurent_Pour-seul-cortege\n",
      "1994_Bergounioux-Pierre_La-Toussaint\n",
      "2017_Dabos-Christelle_La-Passe-miroir_3-La-Memoire-de-Babel\n",
      "2001_Bergounioux-Pierre_Simples-magistraux-et-autres-antidotes\n",
      "1884_Poitevin-B._Le-Pecheur-de-l-ile-de-La-Borde\n",
      "1883_Badin-Adolphe_Un-Parisien-chez-les-Russes\n",
      "1990_Volodine-Antoine_Lisbonne-derniere-marge\n",
      "2004_Volodine-Antoine_Bardo-or-not-Bardo\n",
      "2005_Quignard-Pascal_Les-Paradisiaques\n",
      "1965_Le-Clezio-Jean-Marie-Gustave_La-fievre\n",
      "2016_Cusset-Catherine_L-autre-qu-on-adorait\n",
      "2000_Nothomb-Amelie_Metaphysique-des-tubes\n",
      "2016_Begaudeau-François_Molecules\n",
      "1987_Chevillard-Eric_Mourir-m-enrhume\n",
      "1880_Martignat-Mlle-de_L-Oncle-Boni\n",
      "2011_Nothomb-Amelie_Tuer-le-pere\n",
      "2011_Abecassis-Agnes_Le-theoreme-de-cupidon\n",
      "2011_Ardenne-Paul_Sans-visage\n",
      "1998_Houellebecq-Michel_Les-particules-elementaires\n",
      "1985_Daeninckx-Didier_Metropolice\n",
      "2009_Djian-Philippe_Impardonnables\n",
      "2008_Lemaitre-Pierre_Robe-de-Marie\n",
      "1992_Germain-Sylvie_La-pleurante-des-rues-de-Prague\n",
      "1826_Ginouvier-J-F-T._Gustave-et-Aspais-ou-Les-victimes-des-prejuges-de-l-epoque_tome-2\n",
      "1975_Modiano-Patrick_Villa-Triste\n",
      "1988_Orsenna-Erik_L-exposition-coloniale\n",
      "1992_Bergounioux-Pierre_Le-matin-des-origines\n",
      "1905_Cazin-Jeanne_Les-Saltimbanques-scenes-de-la-montagne\n",
      "2010_Despentes-Virginie_Apocalypse-bebe\n",
      "2012_Kerangal-Maylis-de_Tangente-vers-l-est\n",
      "2010_Volodine-Andoine_Les-aigles-puent\n",
      "2015_Claro_Dans-la-queue-le-venin\n",
      "1995_Ferney-Alice_L-elegance-des-veuves\n",
      "2010_Forest-Philippe_Le-Siecle-des-nuages\n",
      "2003_Daeninckx-Didier_Je-tue-il\n",
      "2017_Bortnikov-Dimitri_Face-au-Styx\n",
      "1995_Carrere-Emmanuel_La-classe-de-neige\n",
      "1989_Villard-Marc_La-dame-est-une-trainee\n",
      "2002_Rolin-Olivier_Tigre-en-papier\n",
      "1998_Daeninckx-Didier_La-Mort-en-Dedicace\n",
      "2012_Leger-Nathalie_Supplement-a-la-vie-de-Barbara-Loden\n",
      "2008_Millet-Catherine_Jour-de-souffrance\n",
      "2001_Bergounioux-Pierre_Le-premier-mot\n",
      "2015_Begaudeau-François_La-politesse\n",
      "1994_Chevillard-Eric_Prehistoire\n",
      "1997_Grange-Jean-Christophe_Les-rivieres-pourpres\n",
      "1977_Ernaux-Annie_Ce-qu-ils-disent-ou-rien\n",
      "2010_Bouraoui-Nina_Nos-baisers-sont-des-adieux\n",
      "2012_Chandernagor-Françoise_Les-Dames-de-Rome\n",
      "1861_Veilles-comtesse-de_Sagesse-et-bonte-livre-des-jeunes-personnes\n",
      "1833_Servan-Felix_Claudia-ou-Les-prieres-d-une-jeune-fille\n",
      "1996_Nothomb-Amelie_Peplum\n",
      "2008_Enard-Mathias_Zone\n",
      "1869_Marcel-Etienne_Souvenirs-d-une-jeune-fille\n",
      "1876_Marechal-Marie_Le-Parrain-d-Antoinette\n",
      "1877_Rosary-Eugene_Le-Journal-d-une-jeune-fille\n",
      "1996_Daeninckx-Didier_Nazis-dans-le-metro\n",
      "1998_Kundera-Milan_L-Identite\n",
      "2013_Ferney-Alice_Cherchez-La-Femme\n",
      "2004_Bouraoui-Nina_Poupee-Bella\n",
      "2013_Desarthe-Agnes_Comment-j-ai-appris-a-lire\n",
      "2000_Daeninckx-Didier_Ethique-en-toc\n",
      "1884_Ambo-Gustave_Un-voyage-de-noces\n",
      "1996_Vargas-Fred_Un-peu-plus-loin-sur-la-droite\n",
      "1884_Sernhac-Jocelyn_Le-Credit-gaulois\n",
      "2001_Rufin-Jean-Christophe_Rouge-Bresil\n",
      "2008_Rouaud-Jean_La-fiancee-juive\n",
      "2008_Cusset-Catherine_Un-brillant-avenir\n",
      "2004_Damasio-Alain_La-Horde-du-Contrevent\n",
      "1985_Millet-Richard_Sept-passions-singulieres\n",
      "2002_Chandernagor-Françoise_La-Chambre\n",
      "1982_Modiano-Patrick_De-si-braves-garçons\n",
      "2018_Quignard-Pascal_L-enfant-d-Ingolstadt\n",
      "2006_Volodine-Antoine_Nos-animaux-preferes\n",
      "2001_Millet-Catherine_La-Vie-Sexuelle-De-Catherine-M.\n",
      "1993_Bergounioux-Pierre_Le-Grand-Sylvain\n",
      "2007_Nothomb-Amelie_Le-fait-du-Prince\n",
      "2013_Djian-Philippe_Love-Song\n",
      "2011_Grange-Jean-Christophe_Le-passager\n",
      "1904_Fournier-Jules_Le-crime-de-Lachine\n",
      "2000_Djian-Philippe_Vers-chez-les-blancs\n",
      "2001_Bergounioux-Pierre_B-17-G\n",
      "2014_Adam-Olivier_Peine-perdue\n",
      "2014_Rolin-Olivier_Le-Meteorologue\n",
      "1867_Savigny-Laurence-de_Le-Robinson-des-Alpes\n",
      "1988_Michon-Pierre_Vie-de-Joseph-Roulin\n",
      "2012_Winckler-Martin_En-souvenir-d-Andre\n",
      "2014_Carrere-Emmanuel_Le-Royaume\n",
      "2013_Korman-Cloe_Les-Saisons-de-Louveplaine\n",
      "1864_Boissieres-Ernest_Un-crime-inconnu\n",
      "2014_Foenkinos-David_Charlotte\n",
      "2005_Modiano-Patrick_Un-pedigree\n",
      "2016_Echenoz-Jean_Envoyee-speciale\n",
      "1880_Inconnu_Indiscretions-d-une-Parisienne-Mademoiselle-Figaro\n",
      "2005_Bouraoui-Nina_Mes-mauvaises-pensees\n",
      "2010_Rolin-Jean_Le-Ravissement-de-Britney-Spears\n",
      "2003_Millet-Richard_Le-renard-dans-le-nom\n",
      "1996_Rouaud-Jean_le-monde-a-peu-pres\n",
      "2009_Jourde-Pierre_Paradis-Noir\n",
      "2013_Rolin-Jean_Ormuz\n",
      "1991_Michon-Pierre_Rimbaud-le-fils\n",
      "2002_Oster-Christian_Dans-le-train\n",
      "1827_Inconnu_Le-rocher\n",
      "2009_N-Diaye-Marie_Trois-femmes-puissantes\n",
      "2013_Millet-Richard_Une-artiste-du-sexe\n",
      "1987_Daeninckx-Didier_Lumiere-noire\n",
      "2013_Lemaitre-Pierre_Au-revoir-la-haut\n",
      "1995_Bergounioux-Pierre_Miette\n",
      "2001_Houellebecq-Michel_Plateforme\n",
      "1869_Inconnu_Le-roman-d-un-seminariste-nouvelles-etudes-de-moeurs-contemporaines\n",
      "1981_Ernaux-Annie_La-femme-gelee\n",
      "1880_Vernier-Paul_La-Chasse-aux-nihilistes\n",
      "2015_Sansal-Boualem_2084-La-fin-du-monde\n",
      "2011_de-Vigan-Delphine_Rien-ne-s-oppose-a-la-nuit\n",
      "2011_Oster-Christian_Rouler\n",
      "1996_Bouraoui-Nina_Le-Bal-des-murenes\n",
      "1998_Daeninckx-Didier_Cannibale\n",
      "1900_Dhanys-Marcel_Le-voeu-de-Phanette\n",
      "2007_Millet-Richard_Corps-en-dessous\n",
      "2001_Modiano-Patrick_La-Petite-Bijou\n",
      "2014_Kerangal-Maylis-de_A-ce-stade-de-la-nuit\n",
      "1986_Bergounioux-Pierre_La-bete-faramineuse\n",
      "2013_Fournel-Paul_La-Liseuse\n",
      "2013_Janin-Mathilde_Riviera\n",
      "2012_Modiano-Patrick_L-herbe-des-nuits\n",
      "1984_Germain-Sylvie_Le-Livre-des-Nuits\n",
      "1883_Sirven-Alfred_La-Bigame-roman-contemporain\n",
      "2012_Grange-Jean-Christophe_Kaiken\n",
      "1991_Quignard-Pascal_Tous-Les-Matins-Du-Monde\n",
      "2006_Daeninckx-Didier_Itineraire-d-un-salaud-ordinaire\n",
      "1876_Geiger-Anna_Souvenirs-de-femme\n",
      "1853_Chavannes-de-La-Giraudiere-Hippolyte-de_Les-Petits-voyageurs-en-Californie\n",
      "1993_Modiano-Patrick_Chien-de-printemps\n",
      "2013_Bergounioux-Pierre_Geologies\n",
      "1824_Mazier-du-Heaume-Hippolyte_Voyage-d-un-jeune-grec-a-Paris_Volume-2\n",
      "1993_Carrere-Emmanuel_je-suis-vivant-et-vous-etes-morts\n",
      "2011_Borromee-Pierre_L-hermine-etait-pourpre\n",
      "2005_Begaudeau-François_Un-democrate-Mick-Jagger\n",
      "1881_Martignat-Mlle-de_Ginette\n",
      "2005_Houellebecq-Michel_La-possibilite-d-une-ile\n",
      "2005_Darrieussecq-Marie_Le-pays\n",
      "2010_Millet-Richard_Le-Sommeil-Sur-Les-Cendres\n",
      "1879_Lebourgeois-Marie_La-Goutte-de-miel\n",
      "2010_Gavalda-Anna_Desordre-et-Sentiments\n",
      "2014_Rouaud-Jean_Un-peu-la-guerre\n",
      "2002_Ernaux-Annie_L-Occupation\n",
      "1991_Modiano-Patrick_Fleurs-de-ruine\n",
      "1989_Daeninckx-Didier_La-mort-n-oublie-personne\n",
      "2016_Laurens-Camille_Celle-que-vous-croyez\n",
      "1883_Denoy-Emmanuel_Mercedes-Pepin\n",
      "1998_Constant-Paule_Confidence-pour-confidence\n",
      "1992_Modiano-Patrick_Un-cirque-passe\n",
      "1978_Modiano-Patrick_Rue-des-boutiques-obscures\n",
      "2003_Grange-Jean-Christophe_L-empire-des-loups\n",
      "2007_Volodine-Antoine_Songes-de-Mevlido\n",
      "1977_Modiano-Patrick_Livret-de-famille\n",
      "1982_Daeninckx-Didier_Mort-Au-Premier-Tour\n",
      "2008_Nunez-Laurent_Les-recidivistes\n",
      "1897_Gerald-Montmeril_Chryseis-au-desert\n",
      "1996_Michon-Pierre_La-Grande-Beune\n",
      "1989_Echenoz-Jean_Lac\n",
      "2010_Enard-Mathias_Parle-leur-de-batailles-de-rois-et-d-elephants\n",
      "1984_Modiano-Patrick_Quartier-perdu\n",
      "2016_Ernaux-Annie_Memoire-de-fille\n",
      "1986_Quignard-Pascal_Le-salon-du-Wurtemberg\n",
      "2013_Forest-Philippe_Le-Chat-de-Schrodinger\n",
      "2016_Rolin-Olivier_Veracruz\n",
      "1996_Rolin-Jean_L-Organisation\n",
      "1842_Grosset-J-M._Cecilia-ou-Le-bigame-episode-d-un-voyage-en-Italie\n",
      "1997_Beigbeder-Frederic_L-Amour-Dure-Trois-Ans\n",
      "2000_Beigbeder-Frederic_99-Francs\n",
      "2008_Musso-Guillaume_Je-reviens-te-chercher\n",
      "1905_Saint-Ogan-Claude_A-la-belle-etoile\n",
      "1837_Sabatier-de-Castres-Camille_La-Colonie-chretienne_histoire-de-plusieurs-deportes-jetes-par-un-naufrage-dans-une-ile-deserte\n",
      "2012_Nothomb-Amelie_Barbe-bleue\n",
      "2013_Thiery-Danielle_La-petite-fille-de-Marie-Gare\n",
      "2007_Damasio-Alain_La-Zone-du-Dehors\n",
      "1824_Mazier-du-Heaume-Hippolyte_Voyage-d-un-jeune-grec-a-Paris_Volume-1\n",
      "1846_Mme-Tarbe-Des-Sablons_Isabelle\n",
      "1876_Mettais-Hippolyte_Les-Amours-d-un-tribun\n",
      "2009_Germain-Sylvie_Hors-champ\n",
      "1879_Saint-François-Leon_L-Saint-François-Vieux-peches-scenes-parisiennes\n",
      "2009_Pradeau-Christophe_La-grande-sauvagerie\n",
      "2009_Toussaint-Jean-Philippe_La-Verite-sur-Marie\n",
      "1994_Millet-Richard_Un-balcon-a-Beyrouth\n",
      "2014_Angot-Christine_La-Petite-Foule\n",
      "2002_Vargas-Fred_Coule-la-Seine\n",
      "2013_Musso-Guillaume_Demain\n",
      "1875_Bellaud-E-de_Ces-pauvres-filles-\n",
      "1994_Rolin-Olivier_Port-Soudan\n",
      "2007_Le-Linda_In-memoriam\n",
      "1984_Daeninckx-Didier_Le-Geant-Inacheve\n",
      "2012_Echenoz-Jean_14\n",
      "2003_Echenoz-Jean_Au-Piano\n",
      "2012_Angot-Christine_Une-semaine-de-vacances\n",
      "1850_Inconnu_Un-roman-sous-l-Empire\n",
      "2004_Foenkinos-David_Le-potentiel-erotique-de-ma-femme\n",
      "2012_Roger-Marie-Sabine_Bon-retablissement\n",
      "1980_Le-Clezio-Jean-Marie-Gustave_Desert\n",
      "2002_Daeninckx-Didier_Leurre-de-verite-et-autres-nouvelles\n",
      "1986_Modiano-Patrick_Dimanches-d-aout\n",
      "2013_Darrieussecq-Marie_Il-faut-beaucoup-aimer-les-hommes\n",
      "1986_Daeninckx-Didier_Le-bourreau-et-son-double\n",
      "2002_Volodine-Antoine_Dondog\n",
      "2003_Millet-Richard_Ma-vie-parmi-les-ombres\n",
      "1868_Dumanoir-Paul_Les-Oubliettes-de-la-tour-François-Ier\n",
      "2013_Toledo-Camille-de_Oublier-trahir-puis-disparaitre\n",
      "1992_Echenoz-Jean_Nous-trois\n",
      "2011_Abecassis-Eliette_Et-te-voici-permise-a-tout-homme\n",
      "2009_Beigbeder-Frederic_Un-roman-français\n",
      "2010_Claro_CosmoZ\n",
      "1826_Ginouvier-J-F-T._Gustave-et-Aspais-ou-Les-victimes-des-prejuges-de-l-epoque_tome-3\n",
      "1996_Michon-Pierre_Le-Roi-du-bois\n",
      "1876_Richardet-Gustave_Le-Mariage-de-Bouillardin\n",
      "1867_Marcel-Jeanne_Les-petits-vagabonds\n",
      "2015_Roegiers-Patrick_L-autre-Simenon\n",
      "1997_Modiano-Patrick_Dora-Bruder\n",
      "2002_Gaude-Laurent_La-Mort-du-roi-Tsongor\n",
      "1903_Dhanys-Marcel_Mesalliance\n",
      "2011_Djian-Philippe_Vengeances\n",
      "2007_de-Vigan-Delphine_No-et-moi\n",
      "1883_Job-A_L-homme-à-Toinon\n",
      "2006_Echenoz-Jean_Ravel\n",
      "1984_Daeninckx-Didier_Le-der-des-ders\n",
      "2008_Riboulet-Mathieu_L-Amant-Des-Morts\n",
      "1996_Despentes-Virginie_Les-Chiennes-savantes\n",
      "1995_Laurens-Camille_Philippe\n",
      "1906_Morin-Louis_Grand-mere-avait-des-defauts-\n",
      "2020_Springora-Vanessa_Le-consentement\n",
      "1864_Ribelle-Charles-de_Les-Confidences-de-Gribouille\n",
      "2008_Echenoz-Jean_Courir\n",
      "2007_Modiano-Patrick_Dans-le-cafe-de-la-jeunesse-perdue\n",
      "2003_Bergounioux-Pierre_Back-in-the-sixties\n",
      "1867_Villars-Fanny_L-Expiation\n",
      "2003_Beigbeder-Frederic_Windows-on-the-World\n",
      "2014_Ferney-Alice_Le-Regne-du-vivant\n",
      "2009_Vigan-Delphine-de_Les-heures-souterraines\n",
      "1985_Carrere-Emmanuel_La-Moustache\n",
      "1999_Darrieussecq-Marie_Le-Mal-de-mer\n",
      "1859_Inconnu_Les-soirees-du-pere-Laurent\n",
      "2008_Rolin-Olivier_La-Chambre-des-cartes\n",
      "2008_Oster-Christian_Trois-hommes-seuls\n",
      "2005_de-Vigan-Delphine_Les-jolis-garçons\n",
      "2003_Daeninckx-Didier_La-route-du-Rom\n",
      "1987_Echenoz-Jean_Equipee-malaise\n",
      "1984_Daeninckx-Didier_Meurtres-pour-memoire\n",
      "1866_Valter-Adolphine-De-Jonge-Mme_Les-Confessions-de-la-comtesse-d-Aquilar-etude-historique\n",
      "2014_Volodine-Antoine_Terminus-radieux\n",
      "1996_Bergounioux-Pierre_La-mort-de-Brune\n",
      "1998_Nothomb-Amelie_Mercure\n",
      "2000_Ernaux-Annie_L-evenement\n",
      "2005_Nothomb-Amelie_Acide-sulfurique\n",
      "2014_Bouraoui-Nina_Standard\n",
      "1898_Malin-Henri_Les-Premiers-combats-de-la-vie-Un-collegien-de-Paris-en-1870\n",
      "2008_Grange-Jean-Christophe_Miserere\n",
      "1853_Poulain-Jules_Le-Dartmoor-ou-les-Deux-soeurs-scenes-de-la-vie-anglaise\n",
      "2017_Murail-Marie-Aude_Sauveur-Fils_3\n",
      "2010_Riboulet-Mathieu_Avec-Bastien\n",
      "1974_Laine-Pascal_La-dentelliere\n",
      "1992_Bergounioux-Pierre_L-orphelin\n",
      "1999_Echenoz-Jean_Je-m-en-vais\n",
      "2012_Djian-Philippe_Oh\n",
      "2003_Angot-Christine_Peau-d-ane\n",
      "1867_Taulier-Jules_Les-Deux-petits-Robinsons-de-la-Grande-Chartreuse\n",
      "2001_Gavalda-Anna_L-echappee-belle\n",
      "2007_Jourde-Pierre_Carnet-d-un-voyageur-zoulou\n",
      "1847_Mme-Richomme-Fanny_Grain-de-sable-ou-le-Sorcier-d-Altenbourg\n",
      "2004_Rufin-Jean-Christophe_Globalia\n",
      "1997_Echenoz-Jean_Un-an\n",
      "2006_Nimier-Marie_La-Reine-du-silence\n",
      "1997_Forest-Philippe_L-Enfant-eternel\n",
      "1876_Monnet-Francisque_Une-histoire-au-dessus-du-crocodile\n",
      "1917_Nadaud-Marcel_Chignole\n",
      "1880_Denoy-Emmanuel_Mademoiselle-Clarens\n",
      "2007_Claudel-Philippe_Le-rapport-de-Brodeck\n",
      "1995_Echenoz-Jean_Les-Grandes-Blondes\n",
      "2009_Bergounioux-Pierre_Une-chambre-en-Hollande\n",
      "1987_Villard-Marc_Rebelles-de-la-nuit\n",
      "1996_Darrieussecq-Marie_Truismes\n",
      "1993_Chevillard-Eric_La-nebuleuse-du-Crabe\n",
      "2006_Millet-Richard_Devorations\n",
      "1859_Strub-Florence_L-Ermite-de-Vallombreuse-suivi-de-Madeleine\n",
      "1998_Darrieussecq-Marie_Naissance-des-fantomes\n",
      "1836_Igonette-T._Le-Valmont-de-la-jeunesse_ou-le-Triomphe-des-vertus-sur-les-egarements-de-la-raison-mis-a-la-portee-des-jeunes-gens-des-deux-sexes__tome-1)\n",
      "2002_Djian-Philippe_Ça-c-est-un-baiser\n",
      "2007_Darrieussecq-Marie_Tom-Est-Mort\n",
      "1859_Grangier-Mathilde_Amour-et-devoir\n",
      "2017_Murail-Marie-Aude_Sauveur-Fils_4\n",
      "1868_Tholmey-A._Derniers-jours-d-un-regne\n",
      "2006_Ferney-Alice_Les-Autres\n",
      "1997_Millet-Richard_L-amour-des-trois-soeurs-Piale\n",
      "1999_Adam-Olivier_Je-vais-bien-ne-t-en-fais-pas\n",
      "2007_Millet-Richard_L-orient-desert\n",
      "2010_Volodine-Antoine_Ecrivains\n",
      "2013_Abecassis-Eliette_Le-palimpseste-d-Archimede\n",
      "2003_Darrieussecq-Marie_White\n",
      "1995_Vargas-Fred_Debout-les-morts\n",
      "2014_Daoud-Kamel_Meursault,contre-enquete\n",
      "2013_Foenkinos-David_Je-vais-mieux\n",
      "1983_Echenoz-Jean_Cherokee\n",
      "2009_Nothomb-Amelie_Le-Voyage-d-hiver\n",
      "2018_Murail-Marie-Aude_En-nous-beaucoup-d-hommes-respirent\n",
      "2013_Daeninckx-Didier_Tetes-de-maures\n",
      "1876_Noble-Leon_Memoires-d-un-enfant-pauvre\n",
      "1908_Bovet-Marie-Anne-de_Apres-le-divorce\n",
      "2015_Nothomb-Amelie_Le-crime-du-comte-Neville\n",
      "1880_Marechal-Marie_Un-mariage-a-l-etranger\n",
      "2013_Jourde-Pierre_La-premiere-pierre\n",
      "1847_Sainte-Marie-Mme-de-Plagniol_Les-Bonnes-eleves\n",
      "1876_Husson-Mme-de_La-Fille-du-rabbin\n",
      "2005_Musso-Guillaume_Sauve-moi\n",
      "2015_Despentes-Virginie_Vernon-Subutex_T1\n",
      "1909_Dhanys-Marcel_La-fille-de-Racine\n",
      "1984_Kundera-Milan_L-insoutenable-legerete-de-l-etre\n",
      "2003_Modiano-Patrick_Accident-nocturne\n",
      "2011_Lemaitre-Pierre_Alex\n",
      "1994_Beigbeder-Frederic_Marc-Marronnier_Tome-2-Vacances-dans-le-coma\n",
      "2001_Musso-Guillaume_Skidamarink\n",
      "2011_Jenni-Alexis_L-art-francais-de-la-guerre\n",
      "1836_Igonette-T._Le-Valmont-de-la-jeunesse_ou-le-Triomphe-des-vertus-sur-les-egarements-de-la-raison-mis-a-la-portee-des-jeunes-gens-des-deux-sexes__tome-2)\n",
      "1867_Privat-Esprit_Les-Idoles-du-jour\n",
      "2013_Dabos-Christelle_La-Passe-miroir_1-Les-Fiances-de-l-hiver\n",
      "1984_Michon-Pierre_Vies-Minuscules\n",
      "1876_Peregrine-D._La-Fille-aux-serpents-souvenir-des-Antilles\n",
      "2001_Echenoz-Jean_Jerome-Lindon\n",
      "2020_Melois-Clementine_Dehors-la-tempete\n",
      "2000_Grange-Jean-Christophe_Le-concile-de-pierre\n",
      "1993_Germain-Sylvie_Immensites\n",
      "2013_Begaudeau-François_Deux-singes-ou-ma-vie-politique\n",
      "2011_Vargas-Fred_L-Armee-furieuse\n",
      "2007_Forest-Philippe_Le-nouvel-amour\n",
      "1829_Giberton-Theodore_La-fille-du-vieux-chanteur\n",
      "1969_Modiano-Patrick_La-Ronde-De-Nuit\n",
      "2013_Viel-Tanguy_La-Disparition-de-Jim-Sullivan\n",
      "2009_Quignard-Pascal_La-barque-silencieuse\n",
      "2010_Claudel-Philippe_L-Enquete\n",
      "1903_Strauss-Renee-Paul_Au-pays-basque\n",
      "2013_Zeniter-Alice_Sombre-dimanche\n",
      "1866_Muller-Rene_Les-Enfants-gates\n",
      "1883_Rasetti-Ernest_Les-Drames-du-village-Rosa-Romano\n",
      "1890_Tonelli-Philippe_Scenes-de-la-vie-corse\n",
      "2004_Angot-Christine_Une-partie-du-coeur\n",
      "2001_Nothomb-Amelie_Cosmetique-de-l-ennemi\n",
      "2019_Murail-Marie-Aude_Sauveur-Fils_5\n",
      "2012_Damasio-Alain_Aucun-souvenir-assez-solide\n",
      "2000_Carrere-Emmanuel_L-adversaire\n",
      "2008_Bouraoui-Nina_Appelez-moi-par-mon-prenom\n",
      "2008_Kerangal-Maylis-de_Corniche-Kennedy\n",
      "2011_Darrieussecq-Marie_Cleves\n",
      "2010_Rufin-Jean-Christophe_Katiba\n",
      "1999_Vargas-Fred_L-homme-a-l-envers\n",
      "2002_Gavalda-Anna_Je-l-Aimais\n",
      "2006_Vargas-Fred_Dans-les-bois-eternels\n",
      "2012_Jourde-Pierre_Le-Marechal-absolu\n",
      "1995_Millet-Richard_La-gloire-des-pythre\n",
      "1998_Germain-Sylvie_Tobie-des-marais\n",
      "1995_Nothomb-Amelie_Les-catilinaires\n",
      "2005_Millet-Richard_le-gout-des-femmes-laides\n",
      "2008_Le-Clezio-Jean-Marie-Gustave_Ritournelle-de-la-faim\n",
      "1987_Bergounioux-Pierre_La-maison-rose\n",
      "2018_Mathieu-Nicolas_Leurs-enfants-apres-eux\n",
      "2004_Angot-Christine_Les-Desaxes\n",
      "1881_Tissot-Marcel_La-Veuve-d-Attila\n"
     ]
    }
   ],
   "source": [
    "copy_past_chapitres(src_path, dst_path, corpus_ko)"
   ]
  },
  {
   "cell_type": "code",
   "execution_count": null,
   "metadata": {},
   "outputs": [],
   "source": []
  },
  {
   "cell_type": "code",
   "execution_count": null,
   "metadata": {},
   "outputs": [],
   "source": []
  },
  {
   "cell_type": "code",
   "execution_count": null,
   "metadata": {},
   "outputs": [],
   "source": []
  }
 ],
 "metadata": {
  "kernelspec": {
   "display_name": "Python 3 (ipykernel)",
   "language": "python",
   "name": "python3"
  },
  "language_info": {
   "codemirror_mode": {
    "name": "ipython",
    "version": 3
   },
   "file_extension": ".py",
   "mimetype": "text/x-python",
   "name": "python",
   "nbconvert_exporter": "python",
   "pygments_lexer": "ipython3",
   "version": "3.9.12"
  }
 },
 "nbformat": 4,
 "nbformat_minor": 4
}
